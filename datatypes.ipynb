{
 "cells": [
  {
   "cell_type": "code",
   "execution_count": 4,
   "id": "2bf82417",
   "metadata": {},
   "outputs": [
    {
     "data": {
      "text/plain": [
       "'0b1111'"
      ]
     },
     "execution_count": 4,
     "metadata": {},
     "output_type": "execute_result"
    }
   ],
   "source": [
    "bin(15)\n"
   ]
  },
  {
   "cell_type": "code",
   "execution_count": 6,
   "id": "a7636341",
   "metadata": {},
   "outputs": [
    {
     "data": {
      "text/plain": [
       "'0b1001'"
      ]
     },
     "execution_count": 6,
     "metadata": {},
     "output_type": "execute_result"
    }
   ],
   "source": [
    "bin(0o11)"
   ]
  },
  {
   "cell_type": "code",
   "execution_count": 7,
   "id": "e39ea95c",
   "metadata": {},
   "outputs": [
    {
     "data": {
      "text/plain": [
       "'0b10000'"
      ]
     },
     "execution_count": 7,
     "metadata": {},
     "output_type": "execute_result"
    }
   ],
   "source": [
    "bin(0x10)"
   ]
  },
  {
   "cell_type": "code",
   "execution_count": 10,
   "id": "1df969e6",
   "metadata": {},
   "outputs": [
    {
     "name": "stdout",
     "output_type": "stream",
     "text": [
      "enter the num10\n",
      "enter the num20\n",
      "11\n",
      "13\n",
      "17\n",
      "19\n"
     ]
    }
   ],
   "source": [
    "l=int(input(\"enter the num\"))\n",
    "u=int(input(\"enter the num\"))\n",
    "for i in range(l,u+1):\n",
    "    if i>1:\n",
    "        for j in range(2,i):\n",
    "            if i%j == 0:\n",
    "                break\n",
    "        else:\n",
    "            print(i)"
   ]
  },
  {
   "cell_type": "code",
   "execution_count": 11,
   "id": "69b8ffa4",
   "metadata": {},
   "outputs": [
    {
     "name": "stdout",
     "output_type": "stream",
     "text": [
      "10\n",
      "35\n",
      "11\n",
      "13\n",
      "17\n",
      "19\n",
      "23\n",
      "29\n",
      "31\n"
     ]
    }
   ],
   "source": [
    "#print the prime numbers\n",
    "l=int(input())\n",
    "u=int(input())\n",
    "for i in range(l,u+1):\n",
    "    if i >1:\n",
    "        for j in range(2,i):\n",
    "            if i%j==0:\n",
    "                break\n",
    "        else:\n",
    "            print(i)"
   ]
  },
  {
   "cell_type": "code",
   "execution_count": 13,
   "id": "7ba8d0a5",
   "metadata": {},
   "outputs": [
    {
     "name": "stdout",
     "output_type": "stream",
     "text": [
      "enter the num20\n",
      "20 not prime\n"
     ]
    }
   ],
   "source": [
    "#check the prime numbers\n",
    "num=int(input(\"enter the num\"))\n",
    "if num > 1:\n",
    "    for i in range(2,num):\n",
    "        if num%i==0:\n",
    "            print(num,\"not prime\")\n",
    "            break\n",
    "    else:\n",
    "        print(num,'prime')"
   ]
  },
  {
   "cell_type": "code",
   "execution_count": 23,
   "id": "19d1f3ec",
   "metadata": {},
   "outputs": [
    {
     "name": "stdout",
     "output_type": "stream",
     "text": [
      "[-61, -6, 15, 25, 78, 87, 90]\n",
      "Sorted data in Ascending order: 87\n"
     ]
    }
   ],
   "source": [
    "def vamsi(data):\n",
    "    for i in range(len(data)):\n",
    "        for j in range(0,len(data)-1):\n",
    "            if data[j]>data[j+1]:\n",
    "               # temp=data[j]\n",
    "                #data[j] = data[j+1]\n",
    "                #data[j+1]=temp\n",
    "                data[j],data[j+1] = data[j+1],data[j]\n",
    "vary=[25,87,-6,15,78,90,-61]\n",
    "vamsi(vary)\n",
    "print(vary)\n",
    "print(\"Sorted data in Ascending order:\",vary[-2])"
   ]
  },
  {
   "cell_type": "code",
   "execution_count": 44,
   "id": "00298759",
   "metadata": {},
   "outputs": [
    {
     "name": "stdout",
     "output_type": "stream",
     "text": [
      "0 1 2 3 4 5 6 7 "
     ]
    }
   ],
   "source": [
    "l=[2,4,3,5,6,7,8,9]\n",
    "for i in range(len(l)):\n",
    "    if i%2==0:\n",
    "        print(i,end=\" \")\n",
    "    else:\n",
    "        print(i,end=\" \")\n"
   ]
  },
  {
   "cell_type": "code",
   "execution_count": 38,
   "id": "7d6d3b15",
   "metadata": {},
   "outputs": [
    {
     "name": "stdout",
     "output_type": "stream",
     "text": [
      "even num: 0\n",
      "odd num: 1\n",
      "even num: 2\n",
      "odd num: 3\n",
      "even num: 4\n",
      "odd num: 5\n",
      "even num: 6\n",
      "odd num: 7\n",
      "even num: 8\n",
      "odd num: 9\n"
     ]
    }
   ],
   "source": [
    "\n",
    "for i in range(10):\n",
    "    if i%2==0:\n",
    "        print(\"even num:\",i)\n",
    "    else:\n",
    "        print(\"odd num:\",i)"
   ]
  },
  {
   "cell_type": "code",
   "execution_count": 47,
   "id": "9b020add",
   "metadata": {},
   "outputs": [
    {
     "name": "stdout",
     "output_type": "stream",
     "text": [
      "[2, 1, 4, 3, 6, 5, 8, 7, 9]\n"
     ]
    }
   ],
   "source": [
    "l=[1,2,3,4,5,6,7,8,9]\n",
    "for i in range(len(l)-1):\n",
    "   if i%2==0:\n",
    "       if l[i]%2==0:\n",
    "           l[i+1],l[i]=l[i],l[i+1]\n",
    "       else:\n",
    "         l[i+1],l[i]=l[i],l[i+1]\n",
    "print(l)       \n",
    " "
   ]
  },
  {
   "cell_type": "code",
   "execution_count": 49,
   "id": "2cc3d7ec",
   "metadata": {},
   "outputs": [
    {
     "name": "stdout",
     "output_type": "stream",
     "text": [
      "[2, 1, 4, 3, 6, 5, 8, 7, 10, 9]\n"
     ]
    }
   ],
   "source": [
    "l=[1,2,3,4,5,6,7,8,9,10]\n",
    "for i in range(len(l)):\n",
    "    if i%2==0:\n",
    "        if l[i]%2==0:\n",
    "            l[i+1],l[i]=l[i],l[i+1]\n",
    "        else:\n",
    "            l[i+1],l[i]=l[i],l[i+1]\n",
    "print(l)\n",
    "            "
   ]
  },
  {
   "cell_type": "code",
   "execution_count": 51,
   "id": "6c54d0cf",
   "metadata": {},
   "outputs": [
    {
     "name": "stdout",
     "output_type": "stream",
     "text": [
      "    2 \n",
      "\n",
      "   4 6 \n",
      "\n",
      "  8 10 12 \n",
      "\n",
      " 14 16 18 20 \n",
      "\n"
     ]
    }
   ],
   "source": [
    "num = 4\n",
    "n = 2\n",
    "for i in range(num):\n",
    "    \n",
    "    for j in range(num - i):\n",
    "        print(end=\" \")\n",
    "    for j in range(i + 1):\n",
    "        print(n, end=\" \")\n",
    "        n = n+2\n",
    "    print('\\n')"
   ]
  },
  {
   "cell_type": "code",
   "execution_count": 9,
   "id": "d2ce5620",
   "metadata": {},
   "outputs": [
    {
     "name": "stdout",
     "output_type": "stream",
     "text": [
      "[1, 2, 4, 5, 9]\n"
     ]
    }
   ],
   "source": [
    "def insertionsort(a):\n",
    "    for i in range(1,len(a)):\n",
    "        k=a[i]\n",
    "        l=i-1\n",
    "        while l>=0 and k < a[l]:\n",
    "            a[l+1]=a[l]\n",
    "            l=l-1\n",
    "        a[l+1]=k\n",
    "data=[9,5,1,4,2]\n",
    "insertionsort(data)\n",
    "print(data)"
   ]
  },
  {
   "cell_type": "code",
   "execution_count": null,
   "id": "2ee9c0ee",
   "metadata": {},
   "outputs": [],
   "source": []
  }
 ],
 "metadata": {
  "kernelspec": {
   "display_name": "Python 3 (ipykernel)",
   "language": "python",
   "name": "python3"
  },
  "language_info": {
   "codemirror_mode": {
    "name": "ipython",
    "version": 3
   },
   "file_extension": ".py",
   "mimetype": "text/x-python",
   "name": "python",
   "nbconvert_exporter": "python",
   "pygments_lexer": "ipython3",
   "version": "3.9.6"
  }
 },
 "nbformat": 4,
 "nbformat_minor": 5
}
