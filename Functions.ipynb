{
 "cells": [
  {
   "cell_type": "code",
   "execution_count": 2,
   "id": "c4b6a5f6",
   "metadata": {},
   "outputs": [
    {
     "name": "stdout",
     "output_type": "stream",
     "text": [
      "20\n"
     ]
    }
   ],
   "source": [
    " #Write a Python function to find the Max of three numbers.\n",
    "def max_of_two(a,b):\n",
    "    if a>=b and a>=c :\n",
    "        max = a\n",
    "    elif b>=a and b>=c:\n",
    "        max = c\n",
    "    return max\n",
    "a=10\n",
    "b=20\n",
    "c=15\n",
    "print(max(a,b,c))\n",
    "    "
   ]
  },
  {
   "cell_type": "code",
   "execution_count": 4,
   "id": "d27e7b75",
   "metadata": {},
   "outputs": [
    {
     "name": "stdout",
     "output_type": "stream",
     "text": [
      "30\n"
     ]
    }
   ],
   "source": [
    "#Write a Python function to sum all the numbers in a list\n",
    "def sum(num):\n",
    "    total=0\n",
    "    for i in num:\n",
    "        total+=i\n",
    "    return total\n",
    "print(sum((10,12,8)))\n",
    "    "
   ]
  },
  {
   "cell_type": "code",
   "execution_count": 6,
   "id": "13f5041a",
   "metadata": {},
   "outputs": [
    {
     "name": "stdout",
     "output_type": "stream",
     "text": [
      "python\n",
      "nohtyp\n"
     ]
    }
   ],
   "source": [
    " #Write a Python program to reverse a string.\n",
    "\n",
    "def string_rev(s):\n",
    "    s1=''\n",
    "    for i in s:\n",
    "        \n",
    "        s1=i+s1\n",
    "    return s1\n",
    "s='python'\n",
    "print(s)\n",
    "print(string_rev(s))\n",
    "    "
   ]
  },
  {
   "cell_type": "code",
   "execution_count": 16,
   "id": "4355e940",
   "metadata": {},
   "outputs": [
    {
     "name": "stdout",
     "output_type": "stream",
     "text": [
      "factorial num: 3\n",
      "6\n"
     ]
    }
   ],
   "source": [
    "# Write a Python function to calculate the factorial of a number (a non-negative integer). The function accepts the number as an argument.\n",
    "def fact(n):\n",
    "    if n == 1:\n",
    "        return n\n",
    "    else:\n",
    "        return n * fact(n-1)\n",
    "n=int(input(\"factorial num: \"))\n",
    "print(fact(n))"
   ]
  },
  {
   "cell_type": "code",
   "execution_count": 8,
   "id": "50378f7e",
   "metadata": {},
   "outputs": [
    {
     "name": "stdout",
     "output_type": "stream",
     "text": [
      "swetha\n",
      "ahtews\n"
     ]
    }
   ],
   "source": [
    "def revstring(s):\n",
    "    s1=''\n",
    "    for i in s:\n",
    "        s1=i+s1\n",
    "    return s1\n",
    "s='swetha'\n",
    "print(s)\n",
    "print(revstring(s))\n"
   ]
  },
  {
   "cell_type": "code",
   "execution_count": 4,
   "id": "03175245",
   "metadata": {},
   "outputs": [
    {
     "name": "stdout",
     "output_type": "stream",
     "text": [
      "5\n"
     ]
    },
    {
     "data": {
      "text/plain": [
       "120"
      ]
     },
     "execution_count": 4,
     "metadata": {},
     "output_type": "execute_result"
    }
   ],
   "source": [
    "def fact(n):\n",
    "    if n == 1:\n",
    "        return n\n",
    "    else:\n",
    "        return n*fact(n-1)\n",
    "n=int(input(\"\"))\n",
    "fact(n)"
   ]
  },
  {
   "cell_type": "code",
   "execution_count": null,
   "id": "a41902fd",
   "metadata": {},
   "outputs": [],
   "source": []
  }
 ],
 "metadata": {
  "kernelspec": {
   "display_name": "Python 3 (ipykernel)",
   "language": "python",
   "name": "python3"
  },
  "language_info": {
   "codemirror_mode": {
    "name": "ipython",
    "version": 3
   },
   "file_extension": ".py",
   "mimetype": "text/x-python",
   "name": "python",
   "nbconvert_exporter": "python",
   "pygments_lexer": "ipython3",
   "version": "3.9.6"
  }
 },
 "nbformat": 4,
 "nbformat_minor": 5
}
