{
 "cells": [
  {
   "cell_type": "code",
   "execution_count": 1,
   "id": "7c91cd0a",
   "metadata": {},
   "outputs": [
    {
     "name": "stdout",
     "output_type": "stream",
     "text": [
      "emp(name='swetha', age=25)\n"
     ]
    }
   ],
   "source": [
    "from collections import namedtuple\n",
    "s=namedtuple('emp',['name','age'])\n",
    "x=s('swetha',25)\n",
    "print(x)"
   ]
  },
  {
   "cell_type": "code",
   "execution_count": 21,
   "id": "71ac463d",
   "metadata": {},
   "outputs": [
    {
     "name": "stdout",
     "output_type": "stream",
     "text": [
      "a = 50\n",
      "b = 90\n",
      "c = 30\n"
     ]
    }
   ],
   "source": [
    "import collections\n",
    "d=collections.OrderedDict()\n",
    "d['a']=10\n",
    "d['b']=90\n",
    "d['c']=30\n",
    "d['a']=50\n",
    "for i,j in d.items():\n",
    "    print(i,'=',j)"
   ]
  },
  {
   "cell_type": "code",
   "execution_count": 26,
   "id": "c4e6679a",
   "metadata": {},
   "outputs": [
    {
     "name": "stdout",
     "output_type": "stream",
     "text": [
      "1 s\n",
      "2 0j\n",
      "3 c\n"
     ]
    }
   ],
   "source": [
    "from collections import defaultdict\n",
    "n=collections.defaultdict(complex)\n",
    "n[1]='a'\n",
    "n[2]\n",
    "n[3]='c'\n",
    "n[1]='s'\n",
    "for k,l in n.items():\n",
    "    print(k,l)"
   ]
  },
  {
   "cell_type": "code",
   "execution_count": 56,
   "id": "b6190cf6",
   "metadata": {},
   "outputs": [
    {
     "name": "stdout",
     "output_type": "stream",
     "text": [
      "Counter({1: 2, 2: 2, 4: 2, 3: 1})\n",
      "Counter({'swetha': 2, 'srujan': 1})\n"
     ]
    }
   ],
   "source": [
    "from collections import Counter\n",
    "c=collections.Counter()\n",
    "l=[1,2,3,4,4,2,1]\n",
    "l1=['swetha','srujan','swetha']\n",
    "c1=Counter(l)\n",
    "c2=Counter(l1)\n",
    "print(c1)\n",
    "print(c2)"
   ]
  },
  {
   "cell_type": "code",
   "execution_count": 64,
   "id": "50cf322c",
   "metadata": {},
   "outputs": [
    {
     "name": "stdout",
     "output_type": "stream",
     "text": [
      "[(1, 'a'), (2, 'b'), (3, 'c'), (4, 'c')]\n",
      "ChainMap([1, 2, 3, 4], ['a', 'b', 'c', 'c'])\n",
      "[[1, 2, 3, 4], ['a', 'b', 'c', 'c']]\n"
     ]
    }
   ],
   "source": [
    "from collections import ChainMap\n",
    "x=[1,2,3,4]\n",
    "y=['a','b','c','c']\n",
    "a1=list(zip(x,y))\n",
    "a=collections.ChainMap(x,y)\n",
    "print(a1)\n",
    "print(a)\n",
    "print(a.maps)"
   ]
  },
  {
   "cell_type": "code",
   "execution_count": 72,
   "id": "487e5d8b",
   "metadata": {},
   "outputs": [
    {
     "name": "stdout",
     "output_type": "stream",
     "text": [
      "deque([0, 1, 2, 3, 4])\n",
      "deque([0, 1, 2, 3, 4, 5])\n",
      "deque([0, 1, 2, 3, 4])\n",
      "deque([1, 2, 3, 4])\n"
     ]
    }
   ],
   "source": [
    "from collections import deque\n",
    "x=[1,2,3,4]\n",
    "y=collections.deque(x)\n",
    "y.appendleft(0)\n",
    "print(y)\n",
    "y.append(5)\n",
    "print(y)\n",
    "y.pop()\n",
    "print(y)\n",
    "y.popleft()\n",
    "print(y)\n",
    "\n"
   ]
  },
  {
   "cell_type": "code",
   "execution_count": null,
   "id": "6cc63227",
   "metadata": {},
   "outputs": [],
   "source": []
  }
 ],
 "metadata": {
  "kernelspec": {
   "display_name": "Python 3 (ipykernel)",
   "language": "python",
   "name": "python3"
  },
  "language_info": {
   "codemirror_mode": {
    "name": "ipython",
    "version": 3
   },
   "file_extension": ".py",
   "mimetype": "text/x-python",
   "name": "python",
   "nbconvert_exporter": "python",
   "pygments_lexer": "ipython3",
   "version": "3.9.6"
  }
 },
 "nbformat": 4,
 "nbformat_minor": 5
}
