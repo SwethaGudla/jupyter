{
 "cells": [
  {
   "cell_type": "code",
   "execution_count": 37,
   "id": "e4c896ca",
   "metadata": {},
   "outputs": [
    {
     "name": "stdout",
     "output_type": "stream",
     "text": [
      "<re.Match object; span=(0, 1), match='0'>\n"
     ]
    }
   ],
   "source": [
    "import re\n",
    "pattern = '[0-9]'\n",
    "string = '029'\n",
    "res=re.match(pattern,string)\n",
    "\n",
    "print(res)"
   ]
  },
  {
   "cell_type": "code",
   "execution_count": null,
   "id": "8727c83c",
   "metadata": {},
   "outputs": [],
   "source": []
  },
  {
   "cell_type": "code",
   "execution_count": 73,
   "id": "28e8aa6d",
   "metadata": {},
   "outputs": [
    {
     "name": "stdout",
     "output_type": "stream",
     "text": [
      "None\n"
     ]
    }
   ],
   "source": [
    "import re\n",
    "pattern = '^[a-z]b$'\n",
    "string = 'abab'\n",
    "res = re.match(pattern,string)\n",
    "print(res)"
   ]
  },
  {
   "cell_type": "code",
   "execution_count": 128,
   "id": "8f6777a9",
   "metadata": {},
   "outputs": [
    {
     "name": "stdout",
     "output_type": "stream",
     "text": [
      "<re.Match object; span=(0, 4), match='abbc'>\n"
     ]
    }
   ],
   "source": [
    "import re\n",
    "pattern = '^ab*c'\n",
    "string = 'abbcc'\n",
    "\n",
    "res = re.match(pattern,string)\n",
    "print(res)\n",
    "\n",
    "\n"
   ]
  },
  {
   "cell_type": "code",
   "execution_count": null,
   "id": "a34b6356",
   "metadata": {},
   "outputs": [],
   "source": []
  },
  {
   "cell_type": "code",
   "execution_count": 94,
   "id": "0a7ef72a",
   "metadata": {},
   "outputs": [
    {
     "name": "stdout",
     "output_type": "stream",
     "text": [
      "<re.Match object; span=(0, 4), match='abbe'>\n"
     ]
    }
   ],
   "source": [
    "import re\n",
    "pattern= '^a..e$'\n",
    "\n",
    "string=\"abbe\"\n",
    "\n",
    "res= re.match(pattern, string)\n",
    "print(res)"
   ]
  },
  {
   "cell_type": "code",
   "execution_count": 130,
   "id": "cbe9ab5d",
   "metadata": {},
   "outputs": [
    {
     "name": "stdout",
     "output_type": "stream",
     "text": [
      "<re.Match object; span=(0, 3), match='abc'>\n"
     ]
    }
   ],
   "source": [
    "import re\n",
    "pattern= '^ab?c'\n",
    "\n",
    "string=\"abcc\"\n",
    "\n",
    "res= re.match(pattern, string)\n",
    "print(res)"
   ]
  },
  {
   "cell_type": "code",
   "execution_count": 126,
   "id": "de6855fb",
   "metadata": {},
   "outputs": [
    {
     "name": "stdout",
     "output_type": "stream",
     "text": [
      "<re.Match object; span=(0, 4), match='maan'>\n"
     ]
    }
   ],
   "source": [
    "import re\n",
    "pattern= '^ma+n'\n",
    "\n",
    "string=\"maan\"\n",
    "\n",
    "res= re.match(pattern, string)\n",
    "print(res)"
   ]
  },
  {
   "cell_type": "code",
   "execution_count": 133,
   "id": "cd95123c",
   "metadata": {},
   "outputs": [
    {
     "name": "stdout",
     "output_type": "stream",
     "text": [
      "<re.Match object; span=(1, 3), match='aa'>\n"
     ]
    }
   ],
   "source": [
    "import re\n",
    "pattern= 'a{2,3}'\n",
    "\n",
    "string=\"maan\"\n",
    "\n",
    "res= re.search(pattern, string)\n",
    "print(res)"
   ]
  },
  {
   "cell_type": "code",
   "execution_count": 136,
   "id": "5b34d944",
   "metadata": {},
   "outputs": [
    {
     "name": "stdout",
     "output_type": "stream",
     "text": [
      "<re.Match object; span=(0, 3), match='234'>\n"
     ]
    }
   ],
   "source": [
    "import re\n",
    "pattern= '^[0-9]{2,3}'\n",
    "\n",
    "string=\"23412abc22234\"\n",
    "\n",
    "res= re.match(pattern, string)\n",
    "print(res)"
   ]
  },
  {
   "cell_type": "code",
   "execution_count": 146,
   "id": "c7c93ea1",
   "metadata": {},
   "outputs": [
    {
     "name": "stdout",
     "output_type": "stream",
     "text": [
      "<re.Match object; span=(0, 1), match='b'>\n",
      "<re.Match object; span=(0, 1), match='b'>\n",
      "['b', 'a']\n"
     ]
    }
   ],
   "source": [
    "import re\n",
    "pattern= 'a|b'\n",
    "\n",
    "string=\"bca\"\n",
    "res= re.match(pattern, string)\n",
    "res1= re.search(pattern, string)\n",
    "res2= re.findall(pattern, string)\n",
    "print(res)\n",
    "print(res1)\n",
    "print(res2)"
   ]
  },
  {
   "cell_type": "code",
   "execution_count": 152,
   "id": "2e3efee0",
   "metadata": {},
   "outputs": [
    {
     "name": "stdout",
     "output_type": "stream",
     "text": [
      "<re.Match object; span=(0, 3), match='aws'>\n"
     ]
    }
   ],
   "source": [
    "import re\n",
    "pattern= '(a|b|c)ws'\n",
    "\n",
    "string=\"awscdbcws\"\n",
    "\n",
    "res= re.search(pattern, string)\n",
    "print(res)"
   ]
  },
  {
   "cell_type": "code",
   "execution_count": 205,
   "id": "11113229",
   "metadata": {},
   "outputs": [
    {
     "name": "stdout",
     "output_type": "stream",
     "text": [
      "<re.Match object; span=(0, 3), match='the'>\n"
     ]
    }
   ],
   "source": [
    "import re\n",
    "pattern= r'\\Athe'\n",
    "\n",
    "string=\"the sun\"\n",
    "\n",
    "res= re.match(pattern, string)\n",
    "print(res)"
   ]
  },
  {
   "cell_type": "code",
   "execution_count": 211,
   "id": "fda03640",
   "metadata": {},
   "outputs": [
    {
     "name": "stdout",
     "output_type": "stream",
     "text": [
      "<re.Match object; span=(0, 3), match='foo'>\n"
     ]
    }
   ],
   "source": [
    "import re\n",
    "pattern= r'\\bfoo'\n",
    "\n",
    "string='football player'\n",
    "\n",
    "res= re.search(pattern, string)\n",
    "print(res)"
   ]
  },
  {
   "cell_type": "code",
   "execution_count": 210,
   "id": "98722aff",
   "metadata": {},
   "outputs": [
    {
     "name": "stdout",
     "output_type": "stream",
     "text": [
      "<re.Match object; span=(1, 4), match='foo'>\n"
     ]
    }
   ],
   "source": [
    "import re\n",
    "pattern= r'\\Bfoo'\n",
    "\n",
    "string='afootball player'\n",
    "\n",
    "res= re.search(pattern, string)\n",
    "print(res)"
   ]
  },
  {
   "cell_type": "code",
   "execution_count": 195,
   "id": "e7cffa1e",
   "metadata": {},
   "outputs": [
    {
     "name": "stdout",
     "output_type": "stream",
     "text": [
      "['test']\n"
     ]
    }
   ],
   "source": [
    "import re\n",
    "s = \"This is a test's test\"\n",
    "p = re.findall(r\"\\btest\\b(?!')\", s)\n",
    "print(p)"
   ]
  },
  {
   "cell_type": "code",
   "execution_count": 7,
   "id": "f2223518",
   "metadata": {},
   "outputs": [
    {
     "name": "stdout",
     "output_type": "stream",
     "text": [
      "<re.Match object; span=(0, 8), match='srinitha'>\n"
     ]
    }
   ],
   "source": [
    "import re\n",
    "st=\"srinitha chinthala\"\n",
    "res=re.match(\"^s\\w{7}\",st)\n",
    "print(res)"
   ]
  },
  {
   "cell_type": "code",
   "execution_count": 16,
   "id": "38963f18",
   "metadata": {},
   "outputs": [
    {
     "name": "stdout",
     "output_type": "stream",
     "text": [
      "[]\n"
     ]
    }
   ],
   "source": [
    "import re\n",
    "st='''chinthala srinitha\n",
    "sarithas helloooooooo'''\n",
    "res=re.findall(\"^sri\\w{4}\",st)\n",
    "print(res)"
   ]
  },
  {
   "cell_type": "code",
   "execution_count": null,
   "id": "d4c07880",
   "metadata": {},
   "outputs": [],
   "source": []
  }
 ],
 "metadata": {
  "kernelspec": {
   "display_name": "Python 3 (ipykernel)",
   "language": "python",
   "name": "python3"
  },
  "language_info": {
   "codemirror_mode": {
    "name": "ipython",
    "version": 3
   },
   "file_extension": ".py",
   "mimetype": "text/x-python",
   "name": "python",
   "nbconvert_exporter": "python",
   "pygments_lexer": "ipython3",
   "version": "3.9.6"
  }
 },
 "nbformat": 4,
 "nbformat_minor": 5
}
