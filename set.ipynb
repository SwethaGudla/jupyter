{
 "cells": [
  {
   "cell_type": "code",
   "execution_count": 1,
   "id": "84b21fc0",
   "metadata": {},
   "outputs": [
    {
     "name": "stdout",
     "output_type": "stream",
     "text": [
      "<class 'set'>\n",
      "{0.3, 'doll', 100, True}\n"
     ]
    }
   ],
   "source": [
    "#Write a Python program to create a set.\n",
    "x={'doll',100,True,0.3}\n",
    "print(type(x))\n",
    "print(x)"
   ]
  },
  {
   "cell_type": "code",
   "execution_count": 2,
   "id": "0314a669",
   "metadata": {},
   "outputs": [
    {
     "name": "stdout",
     "output_type": "stream",
     "text": [
      "1\n",
      "2\n",
      "3\n",
      "4\n",
      "5\n",
      "6\n"
     ]
    }
   ],
   "source": [
    "#Write a Python program to iteration over sets.\n",
    "s={1,2,3,4,5,6}\n",
    "for i in s:\n",
    "    print(i)\n"
   ]
  },
  {
   "cell_type": "code",
   "execution_count": 3,
   "id": "ebce4833",
   "metadata": {},
   "outputs": [
    {
     "name": "stdout",
     "output_type": "stream",
     "text": [
      "{'green', 'red', 'white', 'blue'}\n",
      "{'red', 'green', 'white', 'hello', 'hi', 'blue'}\n"
     ]
    }
   ],
   "source": [
    " #Write a Python program to add member(s) in a set. \n",
    "s={'white','blue','green'}\n",
    "s.add('red')\n",
    "print(s)\n",
    "s.update(['hi','hello'])\n",
    "print(s)\n"
   ]
  },
  {
   "cell_type": "code",
   "execution_count": 4,
   "id": "808eedcb",
   "metadata": {},
   "outputs": [
    {
     "name": "stdout",
     "output_type": "stream",
     "text": [
      "{2, 3, 4, 5}\n",
      "{2, 4, 5}\n",
      "{2, 4}\n"
     ]
    }
   ],
   "source": [
    "#Write a Python program to remove item(s) from a given set.\n",
    "s={1,2,3,4,5}\n",
    "s.pop()\n",
    "print(s)\n",
    "s.remove(3)\n",
    "print(s)\n",
    "s.discard(5)\n",
    "print(s)"
   ]
  },
  {
   "cell_type": "code",
   "execution_count": 5,
   "id": "c1e4fb20",
   "metadata": {},
   "outputs": [
    {
     "name": "stdout",
     "output_type": "stream",
     "text": [
      "{4, 6, 7, 8, 9}\n",
      "{4, 6, 8, 9}\n",
      "it doesnt throw an error,if the given element not present in the set.\n",
      "the remains same : {4, 6, 8, 9}\n"
     ]
    }
   ],
   "source": [
    "#write a Python program to remove an item from a set if it is present in the set.\n",
    "s={9,7,6,5,7,8,5,4}\n",
    "s.remove(5)\n",
    "print(s)\n",
    "s.discard(7)\n",
    "print(s)\n",
    "s.discard(10)\n",
    "print('it doesnt throw an error,if the given element not present in the set.')\n",
    "print(\"the remains same :\",s)"
   ]
  },
  {
   "cell_type": "code",
   "execution_count": 6,
   "id": "2edda7b9",
   "metadata": {},
   "outputs": [
    {
     "name": "stdout",
     "output_type": "stream",
     "text": [
      "{3, 4, 5}\n"
     ]
    }
   ],
   "source": [
    "#Write a Python program to create an intersection of sets.\n",
    "s1={1,2,3,4,5}\n",
    "s2={3,4,5,6,7}\n",
    "x=s1.intersection(s2)\n",
    "print(x)"
   ]
  },
  {
   "cell_type": "code",
   "execution_count": 7,
   "id": "38da98e7",
   "metadata": {},
   "outputs": [
    {
     "name": "stdout",
     "output_type": "stream",
     "text": [
      "{1, 2, 3, 4, 5, 6, 7}\n"
     ]
    }
   ],
   "source": [
    "#Write a Python program to create a union of sets.\n",
    "s1={1,2,3,4,5}\n",
    "s2={3,4,5,6,7}\n",
    "x=s1.union(s2)\n",
    "print(x)"
   ]
  },
  {
   "cell_type": "code",
   "execution_count": 8,
   "id": "94c50f3e",
   "metadata": {},
   "outputs": [
    {
     "name": "stdout",
     "output_type": "stream",
     "text": [
      "{1, 2}\n"
     ]
    }
   ],
   "source": [
    " #Write a Python program to create set difference.\n",
    "s1={1,2,3,4,5}\n",
    "s2={3,4,5,6,7}\n",
    "x=s1.difference(s2)\n",
    "print(x)"
   ]
  },
  {
   "cell_type": "code",
   "execution_count": 9,
   "id": "5b18caea",
   "metadata": {},
   "outputs": [
    {
     "name": "stdout",
     "output_type": "stream",
     "text": [
      "{1, 2, 6, 7}\n"
     ]
    }
   ],
   "source": [
    "#Write a Python program to create a symmetric difference.\n",
    "s1={1,2,3,4,5}\n",
    "s2={3,4,5,6,7}\n",
    "x=s1.symmetric_difference(s2)\n",
    "print(x)"
   ]
  },
  {
   "cell_type": "code",
   "execution_count": 10,
   "id": "ed29c76f",
   "metadata": {},
   "outputs": [
    {
     "name": "stdout",
     "output_type": "stream",
     "text": [
      "True\n"
     ]
    }
   ],
   "source": [
    "#write a Python program to check if a set is a subset of another set.\n",
    "s1={1,2,3,4,5}\n",
    "s2={1,2,3,4,5,6,7}\n",
    "x=s1.issubset(s2)\n",
    "print(x)"
   ]
  },
  {
   "cell_type": "code",
   "execution_count": 11,
   "id": "d5bd7cc0",
   "metadata": {},
   "outputs": [
    {
     "name": "stdout",
     "output_type": "stream",
     "text": [
      "s2 =  {1, 2, 3, 4, 5, 7}\n",
      "s1 =  {1, 2, 3, 4, 5, 7}\n"
     ]
    }
   ],
   "source": [
    "#Write a Python program to create a shallow copy of sets.\n",
    "s1={1,2,3,4,5,7}\n",
    "s2=s1.copy()\n",
    "print('s2 = ',s2)\n",
    "print('s1 = ',s1)"
   ]
  },
  {
   "cell_type": "code",
   "execution_count": 12,
   "id": "e3dcd814",
   "metadata": {},
   "outputs": [
    {
     "name": "stdout",
     "output_type": "stream",
     "text": [
      "original set elements : {3, 4, 5, 6, 8, 9}\n",
      "removed all elements from set : set()\n"
     ]
    }
   ],
   "source": [
    "#Write a Python program to remove all elements from a given set.\n",
    "s={8,9,6,5,4,3}\n",
    "print('original set elements :', s)\n",
    "s.clear()\n",
    "print('removed all elements from set :',s)"
   ]
  },
  {
   "cell_type": "code",
   "execution_count": 13,
   "id": "85eee43d",
   "metadata": {},
   "outputs": [
    {
     "name": "stdout",
     "output_type": "stream",
     "text": [
      "frozenset({1, 2, 3, 4, 5})\n",
      "{1, 2, 3, 4}\n"
     ]
    }
   ],
   "source": [
    "#Write a Python program to use of frozensets.\n",
    "s1=(1,2,3,4,5)\n",
    "s2=(3,4,5,6,7)\n",
    "x=frozenset(tuple(s1))\n",
    "y=set(tuple(s1))\n",
    "print(x)\n",
    "y.discard(5)\n",
    "print(y)"
   ]
  },
  {
   "cell_type": "code",
   "execution_count": 14,
   "id": "c1b486dd",
   "metadata": {},
   "outputs": [
    {
     "name": "stdout",
     "output_type": "stream",
     "text": [
      "543\n",
      "30\n"
     ]
    }
   ],
   "source": [
    " #Write a Python program to find maximum and the minimum value in a set.\n",
    "s={100,30,400,543}\n",
    "print(max(s))\n",
    "print(min(s))"
   ]
  },
  {
   "cell_type": "code",
   "execution_count": 15,
   "id": "c9fcdeda",
   "metadata": {},
   "outputs": [
    {
     "name": "stdout",
     "output_type": "stream",
     "text": [
      "6\n"
     ]
    }
   ],
   "source": [
    "#Write a Python program to find the length of a set. \n",
    "s={1,2,3,4,5,6}\n",
    "print(len(s))"
   ]
  },
  {
   "cell_type": "code",
   "execution_count": 16,
   "id": "94a4bd2c",
   "metadata": {},
   "outputs": [
    {
     "name": "stdout",
     "output_type": "stream",
     "text": [
      "2\n",
      "value is present\n"
     ]
    }
   ],
   "source": [
    "# Write a Python program to check if a given value is present in a set or not.\n",
    "s={1,2,3,4,5,6}\n",
    "i=int(input())\n",
    "if i in s:\n",
    "    print('value is present')\n",
    "else:\n",
    "    print('value not present')"
   ]
  },
  {
   "cell_type": "code",
   "execution_count": 17,
   "id": "643eb2a2",
   "metadata": {},
   "outputs": [
    {
     "name": "stdout",
     "output_type": "stream",
     "text": [
      "Common elements exists\n"
     ]
    }
   ],
   "source": [
    "# Write a Python program to check if two given sets have no elements in common.\n",
    "s1={1,2,3,4,5}\n",
    "s2={9,8,5,6,0}\n",
    "if s1.isdisjoint(s2):\n",
    "    print(\"They are no common elements\")\n",
    "else:\n",
    "    print(\"Common elements exists\")"
   ]
  },
  {
   "cell_type": "code",
   "execution_count": 19,
   "id": "cd2852ad",
   "metadata": {},
   "outputs": [
    {
     "data": {
      "text/plain": [
       "True"
      ]
     },
     "execution_count": 19,
     "metadata": {},
     "output_type": "execute_result"
    }
   ],
   "source": [
    "#Write a Python program to check if a given set is superset of itself and superset of another given set.\n",
    "s1={1,2,3,4,5,6,7,8,9,10}#superset\n",
    "s2={1,2,3,4,5,6,7,8,9}#subset\n",
    "s1.issuperset(s2)\n"
   ]
  },
  {
   "cell_type": "code",
   "execution_count": 20,
   "id": "c80b33c3",
   "metadata": {},
   "outputs": [
    {
     "name": "stdout",
     "output_type": "stream",
     "text": [
      "{4, 5, 6}\n"
     ]
    }
   ],
   "source": [
    "#Write a Python program to find the elements in a given set that are not in another set.\n",
    "s1={1,2,3,4,5,6}\n",
    "s2={8,9,89,9,1,2,3}\n",
    "\n",
    "print(s1.difference(s2))\n"
   ]
  },
  {
   "cell_type": "code",
   "execution_count": 5,
   "id": "c272b006",
   "metadata": {},
   "outputs": [
    {
     "data": {
      "text/plain": [
       "{4, 5, 6}"
      ]
     },
     "execution_count": 5,
     "metadata": {},
     "output_type": "execute_result"
    }
   ],
   "source": [
    " #Write a Python program to remove the intersection of a 2nd set from the 1st set.\n",
    "s1={1,2,3,4,5,6}\n",
    "s2={8,9,89,9,1,2,3}\n",
    "inter = list(s1.intersection(s2))\n",
    "\n",
    "for i in inter:\n",
    "    s1.remove(i)\n",
    "s1"
   ]
  },
  {
   "cell_type": "code",
   "execution_count": null,
   "id": "90602c57",
   "metadata": {},
   "outputs": [],
   "source": []
  }
 ],
 "metadata": {
  "kernelspec": {
   "display_name": "Python 3 (ipykernel)",
   "language": "python",
   "name": "python3"
  },
  "language_info": {
   "codemirror_mode": {
    "name": "ipython",
    "version": 3
   },
   "file_extension": ".py",
   "mimetype": "text/x-python",
   "name": "python",
   "nbconvert_exporter": "python",
   "pygments_lexer": "ipython3",
   "version": "3.9.6"
  }
 },
 "nbformat": 4,
 "nbformat_minor": 5
}
