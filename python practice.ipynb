{
 "cells": [
  {
   "cell_type": "code",
   "execution_count": 7,
   "id": "eb292e00",
   "metadata": {},
   "outputs": [
    {
     "name": "stdout",
     "output_type": "stream",
     "text": [
      "enter the num1 2\n",
      "enter the num1 3\n",
      "enter the num2 1\n",
      "[[1, 2], [1, 3], [2, 1]]\n"
     ]
    }
   ],
   "source": [
    "x=[]\n",
    "y=[]\n",
    "for i in range(3):\n",
    "    a=input(\"enter the num\").split(\" \")\n",
    "    for i in a:\n",
    "        x.append(int(i))\n",
    "    y.append(x)\n",
    "    x=[]\n",
    "z=sorted(y)    \n",
    "    \n",
    "print(z)"
   ]
  },
  {
   "cell_type": "code",
   "execution_count": 9,
   "id": "a68f5221",
   "metadata": {},
   "outputs": [
    {
     "name": "stdout",
     "output_type": "stream",
     "text": [
      "[0, 0, 0, 1, 1, 1]\n"
     ]
    }
   ],
   "source": [
    "l=[0,1,1,1,0,0]\n",
    "for i in range(len(l)):\n",
    "    if l[i]==0:\n",
    "        p=i\n",
    "        while p:\n",
    "            l[p],l[p-1]=l[p-1],l[p]\n",
    "            p-=1\n",
    "print(l)"
   ]
  },
  {
   "cell_type": "code",
   "execution_count": 12,
   "id": "5dda5fd8",
   "metadata": {},
   "outputs": [
    {
     "name": "stdout",
     "output_type": "stream",
     "text": [
      "enter the num12\n",
      "enter the num23\n",
      "enter the num21\n",
      "[[12], [21], [23]]\n"
     ]
    }
   ],
   "source": [
    "l=[]\n",
    "for i in range(3):\n",
    "    x=input(\"enter the num\").split()\n",
    "    l.append(list(map(int,x)))\n",
    "y = sorted(l)\n",
    "print(y)"
   ]
  },
  {
   "cell_type": "code",
   "execution_count": 13,
   "id": "994d2d5e",
   "metadata": {},
   "outputs": [
    {
     "name": "stdout",
     "output_type": "stream",
     "text": [
      "enter the num1 2\n",
      "enter the num2 3\n",
      "enter the num1 2\n",
      "[[1, 2], [1, 2], [2, 3]]\n"
     ]
    }
   ],
   "source": [
    "l=[]\n",
    "for i in range(3):\n",
    "    l.append(list(map(int,input(\"enter the num\").split())))\n",
    "s=sorted(l)\n",
    "print(s)"
   ]
  },
  {
   "cell_type": "code",
   "execution_count": 9,
   "id": "b65d08bc",
   "metadata": {},
   "outputs": [
    {
     "name": "stdout",
     "output_type": "stream",
     "text": [
      "welcome\n",
      "ojas\n"
     ]
    }
   ],
   "source": [
    "def num(x):\n",
    "    def add():\n",
    "        print(\"welcome\")\n",
    "        x()\n",
    "    return add\n",
    "@num\n",
    "def sub():\n",
    "    print(\"ojas\")\n",
    "sub()"
   ]
  },
  {
   "cell_type": "code",
   "execution_count": 12,
   "id": "21b0f86a",
   "metadata": {},
   "outputs": [
    {
     "name": "stdout",
     "output_type": "stream",
     "text": [
      "0\n",
      "1\n",
      "1\n",
      "2\n",
      "3\n"
     ]
    }
   ],
   "source": [
    "a=0\n",
    "b=1\n",
    "for i in range(5):\n",
    "    print(a)\n",
    "    a,b=b,a+b\n",
    "    \n",
    "    "
   ]
  },
  {
   "cell_type": "code",
   "execution_count": 6,
   "id": "42a58345",
   "metadata": {},
   "outputs": [
    {
     "name": "stdout",
     "output_type": "stream",
     "text": [
      "fib series: \n",
      "0\n",
      "1\n",
      "1\n",
      "2\n",
      "3\n"
     ]
    }
   ],
   "source": [
    "def num(x):\n",
    "    def fibi(a,b):\n",
    "        print(\"fib series: \")\n",
    "        x(a,b)\n",
    "    return fibi\n",
    "@num\n",
    "def fib(a,b):\n",
    "    for i in range(5):\n",
    "       \n",
    "        a,b=b,a+b\n",
    "        print(a)\n",
    "        \n",
    "fib(1,0)"
   ]
  },
  {
   "cell_type": "code",
   "execution_count": 9,
   "id": "932af304",
   "metadata": {},
   "outputs": [
    {
     "name": "stdout",
     "output_type": "stream",
     "text": [
      "('swetha', 'rasu', 'teju', 'shivani')\n",
      "{'a': 'doll', 'b': 'dumbu'}\n"
     ]
    }
   ],
   "source": [
    "def myfun(*args,**kwargs):\n",
    "    print(args)\n",
    "    print(kwargs)\n",
    "myfun('swetha','rasu','teju','shivani',a='doll',b='dumbu')"
   ]
  },
  {
   "cell_type": "code",
   "execution_count": 16,
   "id": "f7b3c0a9",
   "metadata": {},
   "outputs": [
    {
     "name": "stdout",
     "output_type": "stream",
     "text": [
      "a = swetha\n",
      "b = srujan\n",
      "c = doll\n",
      "d = dumbu\n"
     ]
    }
   ],
   "source": [
    "def fun(**kwargs):\n",
    "    for i,j in kwargs.items():\n",
    "        print(i,'=',j)\n",
    "fun(a='swetha',b='srujan',c='doll',d='dumbu')"
   ]
  },
  {
   "cell_type": "code",
   "execution_count": 23,
   "id": "fac600c3",
   "metadata": {},
   "outputs": [],
   "source": [
    "d={frozenset({1,2}):'swetha'}"
   ]
  },
  {
   "cell_type": "code",
   "execution_count": 28,
   "id": "8436c258",
   "metadata": {},
   "outputs": [],
   "source": [
    "a = {1,2,3,4}\n"
   ]
  },
  {
   "cell_type": "code",
   "execution_count": 30,
   "id": "1c58c795",
   "metadata": {},
   "outputs": [],
   "source": [
    "a.remove(3)"
   ]
  },
  {
   "cell_type": "code",
   "execution_count": 31,
   "id": "a664faaa",
   "metadata": {},
   "outputs": [],
   "source": [
    "a.add(30)"
   ]
  },
  {
   "cell_type": "code",
   "execution_count": 35,
   "id": "d04c1fc6",
   "metadata": {},
   "outputs": [
    {
     "data": {
      "text/plain": [
       "{1, 2, 4, 30}"
      ]
     },
     "execution_count": 35,
     "metadata": {},
     "output_type": "execute_result"
    }
   ],
   "source": [
    "a"
   ]
  },
  {
   "cell_type": "code",
   "execution_count": null,
   "id": "af532268",
   "metadata": {},
   "outputs": [],
   "source": []
  },
  {
   "cell_type": "code",
   "execution_count": null,
   "id": "9eb1c1c6",
   "metadata": {},
   "outputs": [],
   "source": []
  }
 ],
 "metadata": {
  "kernelspec": {
   "display_name": "Python 3 (ipykernel)",
   "language": "python",
   "name": "python3"
  },
  "language_info": {
   "codemirror_mode": {
    "name": "ipython",
    "version": 3
   },
   "file_extension": ".py",
   "mimetype": "text/x-python",
   "name": "python",
   "nbconvert_exporter": "python",
   "pygments_lexer": "ipython3",
   "version": "3.9.6"
  }
 },
 "nbformat": 4,
 "nbformat_minor": 5
}
