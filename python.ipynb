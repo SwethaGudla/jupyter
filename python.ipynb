{
 "cells": [
  {
   "cell_type": "code",
   "execution_count": 2,
   "id": "e0fff1db",
   "metadata": {},
   "outputs": [
    {
     "name": "stdout",
     "output_type": "stream",
     "text": [
      "python is awesome lang\n"
     ]
    }
   ],
   "source": [
    "x='awesome'\n",
    "def fun():\n",
    "    print('python is '+x,'lang')\n",
    "fun()"
   ]
  },
  {
   "cell_type": "code",
   "execution_count": 5,
   "id": "641f9d90",
   "metadata": {},
   "outputs": [
    {
     "name": "stdout",
     "output_type": "stream",
     "text": [
      "my name is doll\n",
      "my name is swetha\n"
     ]
    }
   ],
   "source": [
    "x='swetha'\n",
    "def val():\n",
    "    x='doll'\n",
    "    print(\"my name is \"+x)\n",
    "val()\n",
    "print('my name is ' +x)"
   ]
  },
  {
   "cell_type": "code",
   "execution_count": 8,
   "id": "5f4e2e32",
   "metadata": {},
   "outputs": [
    {
     "name": "stdout",
     "output_type": "stream",
     "text": [
      "my name is swetha\n",
      "my name is swetha\n"
     ]
    }
   ],
   "source": [
    "def func():\n",
    "    global x\n",
    "    x='swetha'\n",
    "    print(\"my name is \"+x)\n",
    "func()\n",
    "print('my name is '+x)"
   ]
  },
  {
   "cell_type": "code",
   "execution_count": 18,
   "id": "b9c22381",
   "metadata": {},
   "outputs": [
    {
     "name": "stdout",
     "output_type": "stream",
     "text": [
      "python language\n",
      "python programming\n"
     ]
    }
   ],
   "source": [
    "x='java'\n",
    "def var():\n",
    "    global x\n",
    "    x='python'\n",
    "    print(x,'language')\n",
    "var()\n",
    "print(x, 'programming')"
   ]
  },
  {
   "cell_type": "code",
   "execution_count": 19,
   "id": "6be29d55",
   "metadata": {},
   "outputs": [
    {
     "name": "stdout",
     "output_type": "stream",
     "text": [
      "3\n"
     ]
    }
   ],
   "source": [
    "l=['a','b','c']\n",
    "print(len(l))"
   ]
  },
  {
   "cell_type": "code",
   "execution_count": 20,
   "id": "c57c873d",
   "metadata": {},
   "outputs": [
    {
     "name": "stdout",
     "output_type": "stream",
     "text": [
      "['a', 'b', 'c', 'd']\n",
      "[1, 2, 3, 4, 5, 6]\n",
      "[True, False, True]\n"
     ]
    }
   ],
   "source": [
    "l1=['a','b','c','d']\n",
    "l2=[1,2,3,4,5,6]\n",
    "l3=[True,False,True]\n",
    "print(l1)\n",
    "print(l2)\n",
    "print(l3)"
   ]
  },
  {
   "cell_type": "code",
   "execution_count": 29,
   "id": "d81a52ab",
   "metadata": {},
   "outputs": [
    {
     "name": "stdout",
     "output_type": "stream",
     "text": [
      "['bac', 100, 3.45, False]\n",
      "3.45\n",
      "False\n"
     ]
    }
   ],
   "source": [
    "l=['bac',100,3.45,False]\n",
    "print(l)\n",
    "\n",
    "print(l[2])\n",
    "print(l[-1])"
   ]
  },
  {
   "cell_type": "code",
   "execution_count": 23,
   "id": "59b2c9b0",
   "metadata": {},
   "outputs": [
    {
     "name": "stdout",
     "output_type": "stream",
     "text": [
      "<class 'list'>\n"
     ]
    }
   ],
   "source": [
    "l=[]\n",
    "print(type(l))"
   ]
  },
  {
   "cell_type": "code",
   "execution_count": 24,
   "id": "843ccc33",
   "metadata": {},
   "outputs": [
    {
     "data": {
      "text/plain": [
       "['abc', 120, True]"
      ]
     },
     "execution_count": 24,
     "metadata": {},
     "output_type": "execute_result"
    }
   ],
   "source": [
    "l=list(('abc',120,True))\n",
    "l"
   ]
  },
  {
   "cell_type": "code",
   "execution_count": 77,
   "id": "96c55009",
   "metadata": {},
   "outputs": [
    {
     "name": "stdout",
     "output_type": "stream",
     "text": [
      "[4, 5, 6]\n",
      "[5, 6]\n",
      "[2, 3, 4, 5, 6, 7]\n",
      "[1, 2, 3, 4, 5]\n",
      "[1, 2, 3, 4, 5, 6, 8]\n",
      "inserting values  [1, 2, 3, 4, 5, 6, 7, 8]\n",
      "[1, 2, 3, 4, 5, 6, 7, 8, 9]\n",
      "yes\n",
      "appending values  [1, 2, 3, 4, 5, 6, 7, 8, 9, 10]\n",
      "[1, 2, 3, 4, 5, 6, 7, 8, 9, 10, 10, 20, 11, 12, 13, 14, 15]\n",
      "removing the value: [1, 2, 3, 4, 5, 6, 7, 8, 9, 10, 10, 20, 11, 12, 13, 14]\n",
      "pop the last element [1, 2, 3, 4, 5, 6, 7, 8, 9, 10, 10, 20, 11, 12, 13]\n",
      "pop giving the elment to delete [1, 2, 3, 4, 5, 6, 7, 8, 9, 10, 20, 11, 12, 13]\n",
      "[2, 3, 4, 5, 6, 7, 8, 9, 10, 20, 11, 12, 13]\n",
      "[]\n"
     ]
    }
   ],
   "source": [
    "l=[1,2,3,4,5,6,7]\n",
    "\n",
    "print(l[3:6])\n",
    "print(l[-3:-1])\n",
    "print(l[1:])\n",
    "print(l[:5])\n",
    "l[6]=8\n",
    "print(l)\n",
    "l.insert(6,7)\n",
    "print('inserting values ',l)\n",
    "l[6:8]=[7,8,9]\n",
    "print(l)\n",
    "if 5 in l:\n",
    "    print('yes')\n",
    "l.append(10)\n",
    "print('appending values ',l)\n",
    "l2=[11,12,13,14,15]\n",
    "l.extend([10,20])\n",
    "l.extend(l2)\n",
    "print(l)\n",
    "l.remove(15)\n",
    "print('removing the value:',l)\n",
    "l.pop()\n",
    "print('pop the last element',l)\n",
    "l.pop(10)\n",
    "print('pop giving the elment to delete',l)\n",
    "del l[0]\n",
    "print(l)\n",
    "l.clear()\n",
    "print(l)"
   ]
  },
  {
   "cell_type": "code",
   "execution_count": 90,
   "id": "3d646f36",
   "metadata": {},
   "outputs": [
    {
     "name": "stdout",
     "output_type": "stream",
     "text": [
      "a b c d e "
     ]
    }
   ],
   "source": [
    "l=['a','b','c','d','e']\n",
    "for i in l:\n",
    "    print(i,end=' ')\n"
   ]
  },
  {
   "cell_type": "code",
   "execution_count": 94,
   "id": "853d6e7e",
   "metadata": {},
   "outputs": [
    {
     "name": "stdout",
     "output_type": "stream",
     "text": [
      "1\n",
      "2\n",
      "3\n",
      "4\n"
     ]
    }
   ],
   "source": [
    "l1=[1,2,3,4]    \n",
    "for i in range(len(l1)):\n",
    "    print(l1[i])\n",
    "   \n",
    "   "
   ]
  },
  {
   "cell_type": "code",
   "execution_count": 108,
   "id": "aa1e7aad",
   "metadata": {},
   "outputs": [
    {
     "name": "stdout",
     "output_type": "stream",
     "text": [
      "1\n",
      "2\n",
      "3\n",
      "4\n",
      "5\n",
      "5\n"
     ]
    }
   ],
   "source": [
    "l=[1,2,3,4,5]\n",
    "i=0\n",
    "while i<len(l):\n",
    "    print(l[i])\n",
    "    i+=1    "
   ]
  },
  {
   "cell_type": "code",
   "execution_count": 114,
   "id": "4eca5075",
   "metadata": {},
   "outputs": [
    {
     "name": "stdout",
     "output_type": "stream",
     "text": [
      "['a', 'b', 'c']\n"
     ]
    }
   ],
   "source": [
    "x=['a','b','c']\n",
    "[i for i in x]\n",
    "print(x)\n"
   ]
  },
  {
   "cell_type": "code",
   "execution_count": 1,
   "id": "8c9d7d97",
   "metadata": {},
   "outputs": [
    {
     "name": "stdout",
     "output_type": "stream",
     "text": [
      "new =  ['apple', 'cherry', 'kiwi', 'mango']\n"
     ]
    }
   ],
   "source": [
    "l1 = [\"apple\", \"banana\", \"cherry\", \"kiwi\", \"mango\"]\n",
    "new=[]\n",
    "for i in l1:\n",
    "    if 'b' not in i:\n",
    "        new.append(i)\n",
    "print('new = ', new)"
   ]
  },
  {
   "cell_type": "code",
   "execution_count": 3,
   "id": "0e4a88ce",
   "metadata": {},
   "outputs": [
    {
     "name": "stdout",
     "output_type": "stream",
     "text": [
      "15\n"
     ]
    }
   ],
   "source": [
    "x=lambda a:a+10\n",
    "print(x(5))"
   ]
  },
  {
   "cell_type": "code",
   "execution_count": 4,
   "id": "255045d7",
   "metadata": {},
   "outputs": [
    {
     "name": "stdout",
     "output_type": "stream",
     "text": [
      "25\n"
     ]
    }
   ],
   "source": [
    "x=lambda a,b : a*b\n",
    "print(x(5,5))"
   ]
  },
  {
   "cell_type": "code",
   "execution_count": 8,
   "id": "9f6f3544",
   "metadata": {},
   "outputs": [
    {
     "name": "stdout",
     "output_type": "stream",
     "text": [
      "6\n"
     ]
    }
   ],
   "source": [
    "def mul(n):\n",
    "    return lambda a : a * n\n",
    "obj=mul(2)\n",
    "print(obj(3))"
   ]
  },
  {
   "cell_type": "code",
   "execution_count": 9,
   "id": "e8050564",
   "metadata": {},
   "outputs": [
    {
     "name": "stdout",
     "output_type": "stream",
     "text": [
      "30\n"
     ]
    }
   ],
   "source": [
    "def fun(n):\n",
    "    return lambda a : a * n \n",
    "obj = fun(10)\n",
    "print(obj(3))"
   ]
  },
  {
   "cell_type": "code",
   "execution_count": 2,
   "id": "ee74e936",
   "metadata": {},
   "outputs": [
    {
     "name": "stdout",
     "output_type": "stream",
     "text": [
      "srujan dumbu\n"
     ]
    }
   ],
   "source": [
    "class Person:\n",
    "    def __init__(self,fname,lname):\n",
    "        self.fname = fname\n",
    "        self.lname = lname\n",
    "    def pname(self):\n",
    "        print(self.fname,self.lname)\n",
    "x=Person('srujan','dumbu')\n",
    "x.pname()"
   ]
  },
  {
   "cell_type": "code",
   "execution_count": 4,
   "id": "0639fb1b",
   "metadata": {},
   "outputs": [
    {
     "name": "stdout",
     "output_type": "stream",
     "text": [
      "a\n",
      "b\n"
     ]
    }
   ],
   "source": [
    "t=('a','b','c')\n",
    "it=iter(t)\n",
    "print(next(it))\n",
    "print(next(it))"
   ]
  },
  {
   "cell_type": "code",
   "execution_count": null,
   "id": "26beed7c",
   "metadata": {},
   "outputs": [],
   "source": [
    "x=[0,1,[2,3,[4,5,6],[7,8,9]]]\n",
    "y=[]\n",
    "\n",
    "def flat(list1):\n",
    "    for i in x:\n",
    "        if type(i) == int:\n",
    "            y.append(i)\n",
    "        elif type(i) == list:\n",
    "            flat(i)\n",
    "    return y\n",
    "                \n",
    "flat(x)   "
   ]
  },
  {
   "cell_type": "code",
   "execution_count": 4,
   "id": "25ba0b61",
   "metadata": {},
   "outputs": [
    {
     "name": "stdout",
     "output_type": "stream",
     "text": [
      "[0, 1, 2, 3, 4, 5, 6, 7, 8, 9]\n"
     ]
    }
   ],
   "source": []
  },
  {
   "cell_type": "code",
   "execution_count": 6,
   "id": "acdf31ff",
   "metadata": {},
   "outputs": [
    {
     "name": "stdout",
     "output_type": "stream",
     "text": [
      "[0, 1, 2, 3, 4, 5, 6, 7, 8, 9]\n"
     ]
    }
   ],
   "source": [
    "x=[0,1,[2,3,[4,5,6],[7,8,9]]]\n",
    "y=[]\n",
    "for i in x:\n",
    "    if type(i)==int:\n",
    "        y.append(i)\n",
    "    if type(i)==list:\n",
    "        for j in i:\n",
    "            if type(j)==int:\n",
    "                y.append(j)\n",
    "            if type(j)==list:\n",
    "                for k in j:\n",
    "                    y.append(k)\n",
    "print(y)"
   ]
  },
  {
   "cell_type": "code",
   "execution_count": 2,
   "id": "feb85523",
   "metadata": {},
   "outputs": [
    {
     "name": "stdout",
     "output_type": "stream",
     "text": [
      "[0, 1, 2, 3, 4, 5, 6, 7, 8, 9]\n"
     ]
    }
   ],
   "source": [
    "x=[0,1,[2,3,[4,5,6],[7,8,9]]]\n",
    "\n",
    "y=[]\n",
    "\n",
    "def flat(x):\n",
    "    for i in x:\n",
    "        if type(i)==int:\n",
    "            y.append(i)\n",
    "        elif type(i)==list:\n",
    "            flat(i)\n",
    "    return y\n",
    "\n",
    "obj=flat(x)\n",
    "\n",
    "print(obj)"
   ]
  },
  {
   "cell_type": "code",
   "execution_count": 35,
   "id": "a4e231a6",
   "metadata": {},
   "outputs": [
    {
     "name": "stdout",
     "output_type": "stream",
     "text": [
      "swetha 25\n",
      "dept\n",
      "swetha age is  25  and her dept is dept\n",
      "swetha age is 25 and her dept is dept\n"
     ]
    }
   ],
   "source": [
    "class Person:\n",
    "    def __init__(self,name,age):\n",
    "        self.name=name\n",
    "        self.age=age\n",
    "    def fun(self):\n",
    "        print(self.name,self.age)\n",
    "class Student(Person):\n",
    "    def __init__(self,dept,name,age):\n",
    "        super().__init__(name,age)\n",
    "        self.dept=dept\n",
    "        \n",
    "    def fun1(self):\n",
    "        print(self.dept)\n",
    "        print(self.name,\"age is \",self.age,\" and her dept is\" ,self.dept)\n",
    "        print(f'{self.name} age is {self.age} and her dept is {self.dept}')\n",
    "x=Student(\"dept\",'swetha',25)\n",
    "x.fun()\n",
    "x.fun1()"
   ]
  },
  {
   "cell_type": "code",
   "execution_count": 44,
   "id": "bb9ecc27",
   "metadata": {},
   "outputs": [
    {
     "name": "stdout",
     "output_type": "stream",
     "text": [
      "1\n",
      "2\n",
      "3\n",
      "4\n"
     ]
    }
   ],
   "source": [
    "l=[1,2,3,4]\n",
    "l1=iter(l)\n",
    "print(next(l1))\n",
    "print(next(l1))\n",
    "print(next(l1))\n",
    "print(next(l1))"
   ]
  },
  {
   "cell_type": "code",
   "execution_count": 45,
   "id": "2d291f13",
   "metadata": {},
   "outputs": [
    {
     "name": "stdout",
     "output_type": "stream",
     "text": [
      "b\n",
      "a\n",
      "n\n",
      "a\n",
      "n\n",
      "a\n"
     ]
    }
   ],
   "source": [
    "x='banana'\n",
    "for i in x:\n",
    "    print(i)"
   ]
  },
  {
   "cell_type": "code",
   "execution_count": 51,
   "id": "32575d45",
   "metadata": {},
   "outputs": [
    {
     "name": "stdout",
     "output_type": "stream",
     "text": [
      "1\n",
      "3\n",
      "5\n",
      "7\n"
     ]
    }
   ],
   "source": [
    "class MyNumber:\n",
    "    def __iter__(self):\n",
    "        self.a = 1\n",
    "        \n",
    "        return self \n",
    "    def __next__(self):\n",
    "        x = self.a\n",
    "        self.a += 2\n",
    "        return x\n",
    "myclass = MyNumber()\n",
    "myiter = iter(myclass)\n",
    "print(next(myiter))\n",
    "print(next(myiter))\n",
    "print(next(myiter))\n",
    "print(next(myiter))"
   ]
  },
  {
   "cell_type": "code",
   "execution_count": 14,
   "id": "cd5b2782",
   "metadata": {},
   "outputs": [
    {
     "name": "stdout",
     "output_type": "stream",
     "text": [
      "6\n",
      "8\n",
      "10\n",
      "12\n",
      "14\n",
      "16\n",
      "18\n",
      "20\n"
     ]
    }
   ],
   "source": [
    "class Num:\n",
    "    def __iter__(self):\n",
    "        self.a = 5\n",
    "        return self\n",
    "    def __next__(self):\n",
    "        if self.a <= 20:\n",
    "            x=self.a\n",
    "            self.a += 1\n",
    "            return x\n",
    "        else:\n",
    "            raise StopIteration\n",
    "z=Num()\n",
    "y=iter(z)\n",
    "\n",
    "\n",
    "for x in y:\n",
    "    print(next(y))"
   ]
  },
  {
   "cell_type": "code",
   "execution_count": 77,
   "id": "8b9d7dd0",
   "metadata": {},
   "outputs": [
    {
     "name": "stdout",
     "output_type": "stream",
     "text": [
      "10\n"
     ]
    }
   ],
   "source": [
    "x=10\n",
    "def myfun():\n",
    "    print(x)\n",
    "    \n",
    "myfun()"
   ]
  },
  {
   "cell_type": "code",
   "execution_count": 15,
   "id": "b016023a",
   "metadata": {},
   "outputs": [
    {
     "name": "stdout",
     "output_type": "stream",
     "text": [
      "11\n",
      "13\n",
      "15\n",
      "17\n",
      "19\n"
     ]
    },
    {
     "ename": "StopIteration",
     "evalue": "",
     "output_type": "error",
     "traceback": [
      "\u001b[1;31m---------------------------------------------------------------------------\u001b[0m",
      "\u001b[1;31mStopIteration\u001b[0m                             Traceback (most recent call last)",
      "\u001b[1;32m~\\AppData\\Local\\Temp/ipykernel_1028/2672579180.py\u001b[0m in \u001b[0;36m<module>\u001b[1;34m\u001b[0m\n\u001b[0;32m     14\u001b[0m \u001b[1;33m\u001b[0m\u001b[0m\n\u001b[0;32m     15\u001b[0m \u001b[1;32mfor\u001b[0m \u001b[0mx\u001b[0m \u001b[1;32min\u001b[0m \u001b[0mp\u001b[0m\u001b[1;33m:\u001b[0m\u001b[1;33m\u001b[0m\u001b[1;33m\u001b[0m\u001b[0m\n\u001b[1;32m---> 16\u001b[1;33m     \u001b[0mprint\u001b[0m\u001b[1;33m(\u001b[0m\u001b[0mnext\u001b[0m\u001b[1;33m(\u001b[0m\u001b[0mp\u001b[0m\u001b[1;33m)\u001b[0m\u001b[1;33m)\u001b[0m\u001b[1;33m\u001b[0m\u001b[1;33m\u001b[0m\u001b[0m\n\u001b[0m",
      "\u001b[1;32m~\\AppData\\Local\\Temp/ipykernel_1028/2672579180.py\u001b[0m in \u001b[0;36m__next__\u001b[1;34m(self)\u001b[0m\n\u001b[0;32m      9\u001b[0m             \u001b[1;32mreturn\u001b[0m \u001b[0mx\u001b[0m\u001b[1;33m\u001b[0m\u001b[1;33m\u001b[0m\u001b[0m\n\u001b[0;32m     10\u001b[0m         \u001b[1;32melse\u001b[0m\u001b[1;33m:\u001b[0m\u001b[1;33m\u001b[0m\u001b[1;33m\u001b[0m\u001b[0m\n\u001b[1;32m---> 11\u001b[1;33m             \u001b[1;32mraise\u001b[0m \u001b[0mStopIteration\u001b[0m\u001b[1;33m\u001b[0m\u001b[1;33m\u001b[0m\u001b[0m\n\u001b[0m\u001b[0;32m     12\u001b[0m \u001b[0mobj\u001b[0m \u001b[1;33m=\u001b[0m \u001b[0mSum\u001b[0m\u001b[1;33m(\u001b[0m\u001b[1;33m)\u001b[0m\u001b[1;33m\u001b[0m\u001b[1;33m\u001b[0m\u001b[0m\n\u001b[0;32m     13\u001b[0m \u001b[0mp\u001b[0m\u001b[1;33m=\u001b[0m\u001b[0miter\u001b[0m\u001b[1;33m(\u001b[0m\u001b[0mobj\u001b[0m\u001b[1;33m)\u001b[0m\u001b[1;33m\u001b[0m\u001b[1;33m\u001b[0m\u001b[0m\n",
      "\u001b[1;31mStopIteration\u001b[0m: "
     ]
    }
   ],
   "source": [
    "class Sum:\n",
    "    def __iter__(self):\n",
    "        self.a = 10\n",
    "        return self\n",
    "    def __next__(self):\n",
    "        if self.a <=20:\n",
    "            x=self.a\n",
    "            self.a += 1\n",
    "            return x\n",
    "        else:\n",
    "            raise StopIteration\n",
    "obj = Sum()\n",
    "p=iter(obj)\n",
    "\n",
    "for x in p:\n",
    "    print(next(p))\n"
   ]
  },
  {
   "cell_type": "code",
   "execution_count": 6,
   "id": "c10aa2bb",
   "metadata": {},
   "outputs": [],
   "source": [
    "class MyClass:\n",
    "    def f(self):\n",
    "        print(\"f()\")\n"
   ]
  },
  {
   "cell_type": "code",
   "execution_count": 7,
   "id": "cb722633",
   "metadata": {},
   "outputs": [
    {
     "ename": "ModuleNotFoundError",
     "evalue": "No module named 'm'",
     "output_type": "error",
     "traceback": [
      "\u001b[1;31m---------------------------------------------------------------------------\u001b[0m",
      "\u001b[1;31mModuleNotFoundError\u001b[0m                       Traceback (most recent call last)",
      "\u001b[1;32m~\\AppData\\Local\\Temp/ipykernel_4784/2289466033.py\u001b[0m in \u001b[0;36m<module>\u001b[1;34m\u001b[0m\n\u001b[1;32m----> 1\u001b[1;33m \u001b[1;32mimport\u001b[0m \u001b[0mm\u001b[0m\u001b[1;33m\u001b[0m\u001b[1;33m\u001b[0m\u001b[0m\n\u001b[0m\u001b[0;32m      2\u001b[0m \u001b[1;32mdef\u001b[0m \u001b[0mmonkey_f\u001b[0m\u001b[1;33m(\u001b[0m\u001b[0mself\u001b[0m\u001b[1;33m)\u001b[0m\u001b[1;33m:\u001b[0m\u001b[1;33m\u001b[0m\u001b[1;33m\u001b[0m\u001b[0m\n\u001b[0;32m      3\u001b[0m     \u001b[0mprint\u001b[0m\u001b[1;33m(\u001b[0m\u001b[1;34m\"monkey_f()\"\u001b[0m\u001b[1;33m)\u001b[0m\u001b[1;33m\u001b[0m\u001b[1;33m\u001b[0m\u001b[0m\n\u001b[0;32m      4\u001b[0m \u001b[1;33m\u001b[0m\u001b[0m\n\u001b[0;32m      5\u001b[0m \u001b[0mm\u001b[0m\u001b[1;33m.\u001b[0m\u001b[0mMyClass\u001b[0m\u001b[1;33m.\u001b[0m\u001b[0mf\u001b[0m \u001b[1;33m=\u001b[0m \u001b[0mmonkey_f\u001b[0m\u001b[1;33m\u001b[0m\u001b[1;33m\u001b[0m\u001b[0m\n",
      "\u001b[1;31mModuleNotFoundError\u001b[0m: No module named 'm'"
     ]
    }
   ],
   "source": [
    "import m\n",
    "def monkey_f(self):\n",
    "    print(\"monkey_f()\")\n",
    " \n",
    "m.MyClass.f = monkey_f\n",
    "obj = m.MyClass()\n",
    "obj.f()"
   ]
  },
  {
   "cell_type": "code",
   "execution_count": 7,
   "id": "a21bddd5",
   "metadata": {},
   "outputs": [
    {
     "name": "stdout",
     "output_type": "stream",
     "text": [
      "8EDKP\n"
     ]
    }
   ],
   "source": [
    "import random\n",
    "alpha='abcdefghijklmnopqrstuvwxyz'.upper()\n",
    "num='0123456789'\n",
    "all=alpha+num\n",
    "length=5\n",
    "res=''.join(random.sample(all,length))\n",
    "print(res)"
   ]
  },
  {
   "cell_type": "code",
   "execution_count": 11,
   "id": "390934e7",
   "metadata": {},
   "outputs": [
    {
     "name": "stdout",
     "output_type": "stream",
     "text": [
      "91857\n"
     ]
    }
   ],
   "source": [
    "import random\n",
    "num='0123456789'\n",
    "length=5\n",
    "res=''.join(random.sample(num,length))\n",
    "print(res)"
   ]
  },
  {
   "cell_type": "code",
   "execution_count": 17,
   "id": "75479ac0",
   "metadata": {},
   "outputs": [
    {
     "name": "stdout",
     "output_type": "stream",
     "text": [
      "a,-z9\n"
     ]
    }
   ],
   "source": [
    "import re\n",
    "import random\n",
    "pat = '0-9,a-z'\n",
    "length=5\n",
    "res=''.join(random.sample(pat,length))\n",
    "print(res)"
   ]
  },
  {
   "cell_type": "code",
   "execution_count": null,
   "id": "249413be",
   "metadata": {},
   "outputs": [],
   "source": [
    "choice( string.ascii_uppercase +\n",
    "                                            string.ascii_lowercase +\n",
    "                                            string.digits)"
   ]
  },
  {
   "cell_type": "code",
   "execution_count": 24,
   "id": "ad3c0060",
   "metadata": {},
   "outputs": [
    {
     "ename": "AttributeError",
     "evalue": "'builtin_function_or_method' object has no attribute 'a'",
     "output_type": "error",
     "traceback": [
      "\u001b[1;31m---------------------------------------------------------------------------\u001b[0m",
      "\u001b[1;31mAttributeError\u001b[0m                            Traceback (most recent call last)",
      "\u001b[1;32m~\\AppData\\Local\\Temp/ipykernel_9404/2931988479.py\u001b[0m in \u001b[0;36m<module>\u001b[1;34m\u001b[0m\n\u001b[0;32m      3\u001b[0m \u001b[0ma\u001b[0m\u001b[1;33m=\u001b[0m\u001b[1;34m'abcdefghijklmnopqrstuvwxyz'\u001b[0m\u001b[1;33m\u001b[0m\u001b[1;33m\u001b[0m\u001b[0m\n\u001b[0;32m      4\u001b[0m \u001b[0mn\u001b[0m\u001b[1;33m=\u001b[0m\u001b[1;34m'0123456789'\u001b[0m\u001b[1;33m\u001b[0m\u001b[1;33m\u001b[0m\u001b[0m\n\u001b[1;32m----> 5\u001b[1;33m \u001b[0mall\u001b[0m\u001b[1;33m=\u001b[0m\u001b[0mascii\u001b[0m\u001b[1;33m.\u001b[0m\u001b[0ma\u001b[0m\u001b[1;33m+\u001b[0m\u001b[0mn\u001b[0m\u001b[1;33m\u001b[0m\u001b[1;33m\u001b[0m\u001b[0m\n\u001b[0m\u001b[0;32m      6\u001b[0m \u001b[0mlength\u001b[0m \u001b[1;33m=\u001b[0m \u001b[1;36m8\u001b[0m\u001b[1;33m\u001b[0m\u001b[1;33m\u001b[0m\u001b[0m\n\u001b[0;32m      7\u001b[0m \u001b[0mres\u001b[0m\u001b[1;33m=\u001b[0m\u001b[1;34m''\u001b[0m\u001b[1;33m.\u001b[0m\u001b[0mjoin\u001b[0m\u001b[1;33m(\u001b[0m\u001b[0mrandom\u001b[0m\u001b[1;33m.\u001b[0m\u001b[0mchoice\u001b[0m\u001b[1;33m(\u001b[0m\u001b[0mall\u001b[0m\u001b[1;33m,\u001b[0m\u001b[0mlength\u001b[0m\u001b[1;33m)\u001b[0m\u001b[1;33m)\u001b[0m\u001b[1;33m\u001b[0m\u001b[1;33m\u001b[0m\u001b[0m\n",
      "\u001b[1;31mAttributeError\u001b[0m: 'builtin_function_or_method' object has no attribute 'a'"
     ]
    }
   ],
   "source": [
    "\n",
    "\n"
   ]
  },
  {
   "cell_type": "code",
   "execution_count": null,
   "id": "e6ee4812",
   "metadata": {},
   "outputs": [],
   "source": [
    "n=11\n",
    "if n > 1:\n",
    "    for i in range(2,n//2):\n",
    "        if n%i==0:\n",
    "            print(\"not prime\")\n",
    "            break \n",
    "    else:\n",
    "        print(\"prime\")\n",
    "else:\n",
    "    print('not prime')\n",
    "\n",
    "\n",
    "        \n",
    "    "
   ]
  },
  {
   "cell_type": "code",
   "execution_count": 1,
   "id": "be06fd4e",
   "metadata": {},
   "outputs": [
    {
     "name": "stdout",
     "output_type": "stream",
     "text": [
      "2\n",
      "3\n",
      "5\n",
      "7\n",
      "11\n"
     ]
    }
   ],
   "source": [
    "u=11\n",
    "\n",
    "l=0\n",
    "\n",
    "for i in range(l,u+1):\n",
    "    if i>1:\n",
    "        for j in range(2,i):\n",
    "            if i%j == 0:\n",
    "                break\n",
    "        else:\n",
    "            print(i)"
   ]
  },
  {
   "cell_type": "code",
   "execution_count": 10,
   "id": "82fc7f89",
   "metadata": {},
   "outputs": [
    {
     "name": "stdout",
     "output_type": "stream",
     "text": [
      "(-2, 6)\n"
     ]
    }
   ],
   "source": [
    "def fun(sub):\n",
    "    def sub1(x,y):\n",
    "        s = sub(x,y)\n",
    "        return x-y,s \n",
    "    return sub1\n",
    "\n",
    "@fun\n",
    "def add(x,y):\n",
    "    return x+y\n",
    "    \n",
    "print(add(2,4))"
   ]
  },
  {
   "cell_type": "code",
   "execution_count": 3,
   "id": "9220fa6f",
   "metadata": {},
   "outputs": [
    {
     "name": "stdout",
     "output_type": "stream",
     "text": [
      "1\n",
      "(1, 20)\n"
     ]
    }
   ],
   "source": [
    "def fun(add1):\n",
    "    def add(p,q):\n",
    "        print(p-q)\n",
    "        x = add1(p,q)\n",
    "        return (p-q,x)\n",
    "    return add\n",
    "\n",
    "@fun\n",
    "def mul(p,q):\n",
    "    return p*q\n",
    "print(mul(5,4))"
   ]
  },
  {
   "cell_type": "code",
   "execution_count": 13,
   "id": "50101434",
   "metadata": {},
   "outputs": [
    {
     "name": "stdout",
     "output_type": "stream",
     "text": [
      "not prime\n"
     ]
    }
   ],
   "source": [
    "n=4\n",
    "if n > 1:\n",
    "    for i in range(2,n):\n",
    "        if n%i==0:\n",
    "            print(\"not prime\")\n",
    "            break \n",
    "    else:\n",
    "        print(\"prime\")\n",
    "else:\n",
    "    print('not prime')\n"
   ]
  },
  {
   "cell_type": "code",
   "execution_count": 27,
   "id": "bba9a7ef",
   "metadata": {},
   "outputs": [
    {
     "name": "stdout",
     "output_type": "stream",
     "text": [
      "prime\n"
     ]
    }
   ],
   "source": [
    "n = 5\n",
    "if list(filter(lambda x:n%x==0,range(2,n))):\n",
    "   print('not prime')\n",
    "else:\n",
    "    print('prime')"
   ]
  },
  {
   "cell_type": "code",
   "execution_count": 29,
   "id": "e58a5ba4",
   "metadata": {},
   "outputs": [
    {
     "name": "stdout",
     "output_type": "stream",
     "text": [
      "[-9, -2, 0, 11, 45]\n"
     ]
    }
   ],
   "source": [
    "def bubbleSort(array):\n",
    "    for i in range(len(array)):\n",
    "        for j in range(0, len(array) - 1):\n",
    "            if array[j] > array[j + 1]:\n",
    "                array[j],array[j+1] = array[j+1],array[j]\n",
    "data = [-2, 45, 0, 11, -9]\n",
    "bubbleSort(data)\n",
    "print(data)"
   ]
  },
  {
   "cell_type": "code",
   "execution_count": 30,
   "id": "f8ceb0c6",
   "metadata": {},
   "outputs": [
    {
     "data": {
      "text/plain": [
       "[0, 1, 1, 2, 3, 5, 8]"
      ]
     },
     "execution_count": 30,
     "metadata": {},
     "output_type": "execute_result"
    }
   ],
   "source": [
    "arr = [0,1]\n",
    "for i in range(5):\n",
    "    arr.append(arr[-1]+arr[-2])\n",
    "arr"
   ]
  },
  {
   "cell_type": "code",
   "execution_count": 34,
   "id": "d60c277e",
   "metadata": {},
   "outputs": [
    {
     "name": "stdout",
     "output_type": "stream",
     "text": [
      "0\n",
      "1\n",
      "1\n",
      "2\n",
      "3\n"
     ]
    }
   ],
   "source": [
    "a=0\n",
    "b=1\n",
    "for i in range(5):\n",
    "    print(a)\n",
    "    a,b=b,b+a\n",
    "    "
   ]
  },
  {
   "cell_type": "code",
   "execution_count": 37,
   "id": "b1b55a8c",
   "metadata": {},
   "outputs": [
    {
     "name": "stdout",
     "output_type": "stream",
     "text": [
      "[1, 2, 3, 8, 9]\n"
     ]
    }
   ],
   "source": [
    "l=[2,3,1,8,9]\n",
    "for i in range(1,len(l)):\n",
    "    x=i\n",
    "    while x:\n",
    "        if l[x]<l[x-1]:\n",
    "            l[x],l[x-1]=l[x-1],l[x]\n",
    "        x-=1\n",
    "print(l)\n",
    "    "
   ]
  },
  {
   "cell_type": "code",
   "execution_count": 44,
   "id": "376064a8",
   "metadata": {},
   "outputs": [
    {
     "name": "stdout",
     "output_type": "stream",
     "text": [
      "[1, 1, 1, 1, 1, 0, 0, 0, 0, 0]\n"
     ]
    }
   ],
   "source": [
    "x=[0,1,0,1,0,1,0,0,1,1]\n",
    "#[1,1,1,1,1,0,0,0,0,0]\n",
    "for i in range(len(x)):\n",
    "    if x[i]==1:\n",
    "        p=i\n",
    "        while p:\n",
    "            x[p],x[p-1] = x[p-1],x[p]\n",
    "            p-=1  \n",
    "print(x)\n",
    "    \n"
   ]
  },
  {
   "cell_type": "code",
   "execution_count": 13,
   "id": "483c5445",
   "metadata": {},
   "outputs": [
    {
     "name": "stdout",
     "output_type": "stream",
     "text": [
      "enter the upper limit10\n",
      "enter the lower limit1\n",
      "2\n",
      "3\n",
      "5\n",
      "7\n"
     ]
    }
   ],
   "source": [
    "upper = int(input(\"enter the upper limit\"))\n",
    "lower = int(input(\"enter the lower limit\"))\n",
    "for i in range(lower,upper+1):\n",
    "    if i>1:\n",
    "        for j in range(2,i):\n",
    "            if i%j == 0:\n",
    "                break\n",
    "        else:\n",
    "            print(i)"
   ]
  },
  {
   "cell_type": "code",
   "execution_count": 12,
   "id": "8046c5dd",
   "metadata": {},
   "outputs": [
    {
     "name": "stdout",
     "output_type": "stream",
     "text": [
      "prime\n"
     ]
    }
   ],
   "source": [
    "n=5\n",
    "if n>1:\n",
    "    for i in range(2,n):\n",
    "        if n%i == 0:\n",
    "            print(\"not prime\")\n",
    "            break\n",
    "    else:\n",
    "        print(\"prime\")\n",
    "else:\n",
    "    print(\"not prime\")"
   ]
  },
  {
   "cell_type": "code",
   "execution_count": 19,
   "id": "6e3a78cf",
   "metadata": {},
   "outputs": [
    {
     "name": "stdout",
     "output_type": "stream",
     "text": [
      "[0, 0, 0, 0, 1, 1, 1, 1]\n"
     ]
    }
   ],
   "source": [
    "x=[0,1,0,1,0,0,1,1]\n",
    "for i in range(len(x)):\n",
    "    if x[i]==0:\n",
    "        y=i\n",
    "        while y:\n",
    "            x[y-1],x[y]=x[y],x[y-1]\n",
    "            #x[y],x[y-1]=x[y-1],x[y]\n",
    "            y-=1\n",
    "print(x)"
   ]
  },
  {
   "cell_type": "code",
   "execution_count": 26,
   "id": "b2ef9114",
   "metadata": {},
   "outputs": [
    {
     "name": "stdout",
     "output_type": "stream",
     "text": [
      "[9, 9, 7, 5, 3, 2, 1]\n"
     ]
    }
   ],
   "source": [
    "x=[5,3,7,9,1,9,2]\n",
    "for i in range(len(x)):\n",
    "    a=i\n",
    "    while a:\n",
    "        if x[a-1]< x[a]:\n",
    "            #x[a],x[a-1]=x[a-1],x[a]\n",
    "            x[a-1],x[a]=x[a],x[a-1]\n",
    "        a-=1\n",
    "print(x)"
   ]
  },
  {
   "cell_type": "code",
   "execution_count": 4,
   "id": "4b3c845a",
   "metadata": {},
   "outputs": [
    {
     "name": "stdout",
     "output_type": "stream",
     "text": [
      "250\n",
      "250\n"
     ]
    }
   ],
   "source": [
    "y = 100\n",
    "def test():\n",
    "    global y\n",
    "    y += 150\n",
    "    print(y)\n",
    "test()\n",
    "print(y)"
   ]
  },
  {
   "cell_type": "code",
   "execution_count": 5,
   "id": "aa238d59",
   "metadata": {},
   "outputs": [
    {
     "data": {
      "text/plain": [
       "{'__name__': '__main__',\n",
       " '__doc__': 'Automatically created module for IPython interactive environment',\n",
       " '__package__': None,\n",
       " '__loader__': None,\n",
       " '__spec__': None,\n",
       " '__builtin__': <module 'builtins' (built-in)>,\n",
       " '__builtins__': <module 'builtins' (built-in)>,\n",
       " '_ih': ['',\n",
       "  'y = 100\\ndef test():\\n    print(y)\\ntest()',\n",
       "  'y = 100\\ndef test():\\n    y = 150\\n    print(y)\\ntest()\\nprint(y)',\n",
       "  'y = 100\\ndef test():\\n    y += 150\\n    print(y)\\ntest()\\nprint(y)',\n",
       "  'y = 100\\ndef test():\\n    global y\\n    y += 150\\n    print(y)\\ntest()\\nprint(y)',\n",
       "  'globals()'],\n",
       " '_oh': {},\n",
       " '_dh': ['C:\\\\Users\\\\sg21129\\\\Desktop\\\\jupyter_python'],\n",
       " 'In': ['',\n",
       "  'y = 100\\ndef test():\\n    print(y)\\ntest()',\n",
       "  'y = 100\\ndef test():\\n    y = 150\\n    print(y)\\ntest()\\nprint(y)',\n",
       "  'y = 100\\ndef test():\\n    y += 150\\n    print(y)\\ntest()\\nprint(y)',\n",
       "  'y = 100\\ndef test():\\n    global y\\n    y += 150\\n    print(y)\\ntest()\\nprint(y)',\n",
       "  'globals()'],\n",
       " 'Out': {},\n",
       " 'get_ipython': <bound method InteractiveShell.get_ipython of <ipykernel.zmqshell.ZMQInteractiveShell object at 0x00000129D936A130>>,\n",
       " 'exit': <IPython.core.autocall.ZMQExitAutocall at 0x129d936ad60>,\n",
       " 'quit': <IPython.core.autocall.ZMQExitAutocall at 0x129d936ad60>,\n",
       " '_': '',\n",
       " '__': '',\n",
       " '___': '',\n",
       " '_i': 'y = 100\\ndef test():\\n    global y\\n    y += 150\\n    print(y)\\ntest()\\nprint(y)',\n",
       " '_ii': 'y = 100\\ndef test():\\n    y += 150\\n    print(y)\\ntest()\\nprint(y)',\n",
       " '_iii': 'y = 100\\ndef test():\\n    y = 150\\n    print(y)\\ntest()\\nprint(y)',\n",
       " '_i1': 'y = 100\\ndef test():\\n    print(y)\\ntest()',\n",
       " 'y': 250,\n",
       " 'test': <function __main__.test()>,\n",
       " '_i2': 'y = 100\\ndef test():\\n    y = 150\\n    print(y)\\ntest()\\nprint(y)',\n",
       " '_i3': 'y = 100\\ndef test():\\n    y += 150\\n    print(y)\\ntest()\\nprint(y)',\n",
       " '_i4': 'y = 100\\ndef test():\\n    global y\\n    y += 150\\n    print(y)\\ntest()\\nprint(y)',\n",
       " '_i5': 'globals()'}"
      ]
     },
     "execution_count": 5,
     "metadata": {},
     "output_type": "execute_result"
    }
   ],
   "source": [
    "globals()"
   ]
  },
  {
   "cell_type": "code",
   "execution_count": 9,
   "id": "f59b0f06",
   "metadata": {},
   "outputs": [
    {
     "name": "stdout",
     "output_type": "stream",
     "text": [
      "0\n",
      "1\n",
      "1\n",
      "2\n",
      "3\n",
      "5\n",
      "8\n",
      "13\n"
     ]
    }
   ],
   "source": [
    "x=0\n",
    "y=1\n",
    "for i in range(8):\n",
    "    print(x)\n",
    "    x,y=y,y+x"
   ]
  },
  {
   "cell_type": "code",
   "execution_count": 10,
   "id": "d0aa73a0",
   "metadata": {},
   "outputs": [
    {
     "name": "stdout",
     "output_type": "stream",
     "text": [
      "0\n",
      "1\n",
      "1\n",
      "2\n",
      "3\n",
      "5\n",
      "8\n",
      "13\n",
      "21\n",
      "34\n"
     ]
    }
   ],
   "source": [
    "a=0\n",
    "b=1\n",
    "for i in range(10):\n",
    "    print(a)\n",
    "    a,b=b,b+a"
   ]
  },
  {
   "cell_type": "code",
   "execution_count": 13,
   "id": "ec258c25",
   "metadata": {},
   "outputs": [
    {
     "name": "stdout",
     "output_type": "stream",
     "text": [
      "[0, 1, 1, 2, 3, 5, 8, 13, 21, 34]\n"
     ]
    }
   ],
   "source": [
    "a=[0,1]\n",
    "for i in range(8):\n",
    "    x = a.append(a[-1]+a[-2])\n",
    "print(a)"
   ]
  },
  {
   "cell_type": "code",
   "execution_count": 1,
   "id": "8e71351f",
   "metadata": {},
   "outputs": [
    {
     "name": "stdout",
     "output_type": "stream",
     "text": [
      "0\n",
      "1\n",
      "<generator object fib at 0x00000211CCAF8E40>\n",
      "1\n",
      "2\n"
     ]
    }
   ],
   "source": [
    "def fib(limit):\n",
    "    a,b=0,1\n",
    "    while a<limit:\n",
    "        yield a\n",
    "        a,b=b,b+a\n",
    "x=fib(5)\n",
    "print(next(x))\n",
    "print(x.__next__())\n",
    "print(x.__iter__())\n",
    "print(next(x))\n",
    "print(next(x))\n",
    "\n"
   ]
  },
  {
   "cell_type": "code",
   "execution_count": 30,
   "id": "be71aadb",
   "metadata": {},
   "outputs": [
    {
     "name": "stdout",
     "output_type": "stream",
     "text": [
      "0\n",
      "1\n",
      "1\n",
      "2\n",
      "3\n",
      "5\n"
     ]
    }
   ],
   "source": [
    "def fib(limit):\n",
    "    a,b=0,1\n",
    "    while a<limit:\n",
    "        yield a\n",
    "        a,b=b,b+a\n",
    "\n",
    "for i in fib(6):\n",
    "    print(i)\n",
    "   "
   ]
  },
  {
   "cell_type": "code",
   "execution_count": 35,
   "id": "b5a54cda",
   "metadata": {},
   "outputs": [
    {
     "name": "stdout",
     "output_type": "stream",
     "text": [
      "0\n",
      "1\n",
      "1\n",
      "2\n",
      "3\n"
     ]
    }
   ],
   "source": [
    "def fib(limit):\n",
    "    a,b=0,1\n",
    "    while a<limit:\n",
    "        print(a)\n",
    "        a,b=b,b+a\n",
    "fib(5)\n"
   ]
  },
  {
   "cell_type": "code",
   "execution_count": 20,
   "id": "c3b946fb",
   "metadata": {},
   "outputs": [
    {
     "name": "stdout",
     "output_type": "stream",
     "text": [
      "6\n",
      "2\n",
      "2.0\n",
      "5\n"
     ]
    }
   ],
   "source": [
    "class Parent():\n",
    "    def rasu(self,a,b):\n",
    "        print(a+b)\n",
    "    def teju(self,a,b):\n",
    "        print(a-b)\n",
    "class Child(Parent):\n",
    "    def swe(self,a,b):\n",
    "        print(a*b)\n",
    "    def teju(self,a,b):\n",
    "        super().teju(a,b)\n",
    "        print(a/b)\n",
    "x=Child()\n",
    "x.swe(2,3)\n",
    "x.teju(4,2)\n",
    "x.rasu(2,3)\n",
    "\n"
   ]
  },
  {
   "cell_type": "code",
   "execution_count": 1,
   "id": "52e62ecb",
   "metadata": {},
   "outputs": [
    {
     "name": "stdout",
     "output_type": "stream",
     "text": [
      "s\n",
      "w\n",
      "e\n",
      "t\n",
      "h\n",
      "a\n"
     ]
    },
    {
     "ename": "NameError",
     "evalue": "name 'stopiteration' is not defined",
     "output_type": "error",
     "traceback": [
      "\u001b[1;31m---------------------------------------------------------------------------\u001b[0m",
      "\u001b[1;31mStopIteration\u001b[0m                             Traceback (most recent call last)",
      "\u001b[1;32m~\\AppData\\Local\\Temp/ipykernel_8892/2623236051.py\u001b[0m in \u001b[0;36m<module>\u001b[1;34m\u001b[0m\n\u001b[0;32m      4\u001b[0m     \u001b[1;32mtry\u001b[0m\u001b[1;33m:\u001b[0m\u001b[1;33m\u001b[0m\u001b[1;33m\u001b[0m\u001b[0m\n\u001b[1;32m----> 5\u001b[1;33m         \u001b[0mprint\u001b[0m\u001b[1;33m(\u001b[0m\u001b[0mnext\u001b[0m\u001b[1;33m(\u001b[0m\u001b[0my\u001b[0m\u001b[1;33m)\u001b[0m\u001b[1;33m)\u001b[0m\u001b[1;33m\u001b[0m\u001b[1;33m\u001b[0m\u001b[0m\n\u001b[0m\u001b[0;32m      6\u001b[0m     \u001b[1;32mexcept\u001b[0m\u001b[1;33m:\u001b[0m\u001b[1;33m\u001b[0m\u001b[1;33m\u001b[0m\u001b[0m\n",
      "\u001b[1;31mStopIteration\u001b[0m: ",
      "\nDuring handling of the above exception, another exception occurred:\n",
      "\u001b[1;31mNameError\u001b[0m                                 Traceback (most recent call last)",
      "\u001b[1;32m~\\AppData\\Local\\Temp/ipykernel_8892/2623236051.py\u001b[0m in \u001b[0;36m<module>\u001b[1;34m\u001b[0m\n\u001b[0;32m      5\u001b[0m         \u001b[0mprint\u001b[0m\u001b[1;33m(\u001b[0m\u001b[0mnext\u001b[0m\u001b[1;33m(\u001b[0m\u001b[0my\u001b[0m\u001b[1;33m)\u001b[0m\u001b[1;33m)\u001b[0m\u001b[1;33m\u001b[0m\u001b[1;33m\u001b[0m\u001b[0m\n\u001b[0;32m      6\u001b[0m     \u001b[1;32mexcept\u001b[0m\u001b[1;33m:\u001b[0m\u001b[1;33m\u001b[0m\u001b[1;33m\u001b[0m\u001b[0m\n\u001b[1;32m----> 7\u001b[1;33m         \u001b[0mstopiteration\u001b[0m\u001b[1;33m\u001b[0m\u001b[1;33m\u001b[0m\u001b[0m\n\u001b[0m\u001b[0;32m      8\u001b[0m         \u001b[1;32mbreak\u001b[0m\u001b[1;33m\u001b[0m\u001b[1;33m\u001b[0m\u001b[0m\n\u001b[0;32m      9\u001b[0m \u001b[1;33m\u001b[0m\u001b[0m\n",
      "\u001b[1;31mNameError\u001b[0m: name 'stopiteration' is not defined"
     ]
    }
   ],
   "source": [
    "x='swetha'\n",
    "y=iter(x)\n",
    "while True:\n",
    "    try:\n",
    "        print(next(y))\n",
    "    except:\n",
    "        stopiteration\n",
    "        break\n",
    "        "
   ]
  },
  {
   "cell_type": "code",
   "execution_count": 7,
   "id": "edc74958",
   "metadata": {},
   "outputs": [
    {
     "name": "stdout",
     "output_type": "stream",
     "text": [
      "D\n",
      "u\n",
      "m\n",
      "b\n",
      "u\n"
     ]
    }
   ],
   "source": [
    "x='Dumbu'\n",
    "y=iter(x)\n",
    "print(next(y))\n",
    "print(next(y))\n",
    "print(next(y))\n",
    "print(next(y))\n",
    "print(next(y))"
   ]
  },
  {
   "cell_type": "code",
   "execution_count": 12,
   "id": "7bba6045",
   "metadata": {},
   "outputs": [
    {
     "name": "stdout",
     "output_type": "stream",
     "text": [
      "enter nums\n",
      "1\n",
      "2\n",
      "3\n"
     ]
    }
   ],
   "source": [
    "def fun():\n",
    "    print(\"enter nums\")\n",
    "    yield 1\n",
    "    yield 2\n",
    "    yield 3\n",
    "for i in fun():\n",
    "    print(i)\n",
    "    "
   ]
  },
  {
   "cell_type": "code",
   "execution_count": 13,
   "id": "d926cf87",
   "metadata": {},
   "outputs": [
    {
     "name": "stdout",
     "output_type": "stream",
     "text": [
      "upper10\n",
      "lower1\n",
      "2\n",
      "3\n",
      "5\n",
      "7\n"
     ]
    }
   ],
   "source": [
    "u=int(input(\"upper\"))\n",
    "l=int(input(\"lower\"))\n",
    "for i in range(l,u+1):\n",
    "    if i > 1:\n",
    "        for j in range(2,i):\n",
    "            if i%j == 0:\n",
    "                break\n",
    "        else:\n",
    "            print(i)"
   ]
  },
  {
   "cell_type": "code",
   "execution_count": 2,
   "id": "bc1aa45d",
   "metadata": {},
   "outputs": [
    {
     "name": "stdout",
     "output_type": "stream",
     "text": [
      "15\n",
      "5\n"
     ]
    }
   ],
   "source": [
    "def add(a):\n",
    "    def sum(x,y):\n",
    "        print(x+y)\n",
    "        z=a(x,y)\n",
    "        return z\n",
    "    return sum\n",
    "@add\n",
    "def sub(x,y):\n",
    "    return (x-y)\n",
    "print(sub(10,5))"
   ]
  },
  {
   "cell_type": "code",
   "execution_count": 7,
   "id": "92a037bb",
   "metadata": {},
   "outputs": [
    {
     "name": "stdout",
     "output_type": "stream",
     "text": [
      "[2, 6, 8, 4]\n"
     ]
    }
   ],
   "source": [
    "l1=[1,2,3,2,3,6,5,2,6,8,4]\n",
    "l2=[]\n",
    "for i in l1:\n",
    "    if i not in l2:\n",
    "        if i%2==0:\n",
    "            l2.append(i)\n",
    "print(l2)"
   ]
  },
  {
   "cell_type": "code",
   "execution_count": 68,
   "id": "d3a3957f",
   "metadata": {},
   "outputs": [
    {
     "name": "stdout",
     "output_type": "stream",
     "text": [
      "[1, 3, 5, 9]\n"
     ]
    }
   ],
   "source": [
    "x=[2,3,4,5,3,1,2,6,8,9]\n",
    "\n",
    "y=[i for i in x if i%2 != 0]\n",
    "print(list(set(y)))\n"
   ]
  },
  {
   "cell_type": "code",
   "execution_count": 49,
   "id": "569fa34b",
   "metadata": {},
   "outputs": [
    {
     "name": "stdout",
     "output_type": "stream",
     "text": [
      "{'a': 'swetha', 'b': 'srujan', 'c': 'dumbu', 'd': 'doll'}\n"
     ]
    }
   ],
   "source": [
    "d=['a','b','c','d']\n",
    "di=['swetha','srujan','dumbu','doll']\n",
    "dc={i:j for (i,j) in zip(d,di)}\n",
    "print(dc)\n",
    "#print(dict(zip(d,di)))"
   ]
  },
  {
   "cell_type": "code",
   "execution_count": 54,
   "id": "4e68bfd1",
   "metadata": {},
   "outputs": [
    {
     "name": "stdout",
     "output_type": "stream",
     "text": [
      "{8, 2, 4, 6}\n"
     ]
    }
   ],
   "source": [
    "s=[2,4,3,5,4,6,8,8,5,9,7]\n",
    "s1={i for i in s if i%2==0}\n",
    "print(s1)"
   ]
  },
  {
   "cell_type": "code",
   "execution_count": 79,
   "id": "746e1e48",
   "metadata": {},
   "outputs": [
    {
     "name": "stdout",
     "output_type": "stream",
     "text": [
      "8 6 2 4 "
     ]
    }
   ],
   "source": [
    "t=[9,8,6,3,2,4,1]\n",
    "t1=(i for i in t if i%2==0)\n",
    "for j in t1:\n",
    "    print(j,end=' ')"
   ]
  },
  {
   "cell_type": "code",
   "execution_count": 80,
   "id": "94e0a484",
   "metadata": {},
   "outputs": [
    {
     "name": "stdout",
     "output_type": "stream",
     "text": [
      "[8, 12, 18, 18]\n"
     ]
    }
   ],
   "source": [
    "x=[134,543,567,6543]\n",
    "y=[]\n",
    "for i in x:\n",
    "    y.append(sum(list(map(int,str(i)))))\n",
    "print(y)"
   ]
  },
  {
   "cell_type": "code",
   "execution_count": 81,
   "id": "10173834",
   "metadata": {},
   "outputs": [
    {
     "name": "stdout",
     "output_type": "stream",
     "text": [
      "[8, 12, 18, 18]\n"
     ]
    }
   ],
   "source": [
    "x=[134,543,567,6543]\n",
    "l=[sum(map(int,str(i))) for i in x]\n",
    "print(l)"
   ]
  },
  {
   "cell_type": "code",
   "execution_count": 15,
   "id": "296524b7",
   "metadata": {},
   "outputs": [
    {
     "ename": "TypeError",
     "evalue": "'power' object is not callable",
     "output_type": "error",
     "traceback": [
      "\u001b[1;31m---------------------------------------------------------------------------\u001b[0m",
      "\u001b[1;31mTypeError\u001b[0m                                 Traceback (most recent call last)",
      "\u001b[1;32m~\\AppData\\Local\\Temp/ipykernel_3252/1108386503.py\u001b[0m in \u001b[0;36m<module>\u001b[1;34m\u001b[0m\n\u001b[0;32m     10\u001b[0m \u001b[1;32mdef\u001b[0m \u001b[0mmul\u001b[0m\u001b[1;33m(\u001b[0m\u001b[0mx\u001b[0m\u001b[1;33m,\u001b[0m\u001b[0my\u001b[0m\u001b[1;33m)\u001b[0m\u001b[1;33m:\u001b[0m\u001b[1;33m\u001b[0m\u001b[1;33m\u001b[0m\u001b[0m\n\u001b[0;32m     11\u001b[0m     \u001b[1;32mreturn\u001b[0m \u001b[0mx\u001b[0m\u001b[1;33m*\u001b[0m\u001b[0my\u001b[0m\u001b[1;33m\u001b[0m\u001b[1;33m\u001b[0m\u001b[0m\n\u001b[1;32m---> 12\u001b[1;33m \u001b[0mprint\u001b[0m\u001b[1;33m(\u001b[0m\u001b[0mmul\u001b[0m\u001b[1;33m(\u001b[0m\u001b[1;36m2\u001b[0m\u001b[1;33m,\u001b[0m\u001b[1;36m3\u001b[0m\u001b[1;33m)\u001b[0m\u001b[1;33m)\u001b[0m\u001b[1;33m\u001b[0m\u001b[1;33m\u001b[0m\u001b[0m\n\u001b[0m",
      "\u001b[1;31mTypeError\u001b[0m: 'power' object is not callable"
     ]
    }
   ],
   "source": [
    "class power:\n",
    "    def __init__(self,a):\n",
    "        self.a=a\n",
    "    def sum(self,x,y):\n",
    "        \n",
    "        print(x+y)\n",
    "        z=self.a(x,y)\n",
    "       \n",
    "        return z\n",
    "@power    \n",
    "def mul(x,y):\n",
    "    return x*y\n",
    "print(mul(2,3))"
   ]
  },
  {
   "cell_type": "code",
   "execution_count": 19,
   "id": "e52181e6",
   "metadata": {},
   "outputs": [
    {
     "name": "stdout",
     "output_type": "stream",
     "text": [
      "ojas\n",
      "hello\n"
     ]
    }
   ],
   "source": [
    "class power:\n",
    "    def __init__(self,a):\n",
    "        self.a=a\n",
    "    def __call__(self):\n",
    "        print(\"ojas\")\n",
    "        self.a()\n",
    "       \n",
    "@power    \n",
    "def mul():\n",
    "    print('hello')\n",
    "mul()"
   ]
  },
  {
   "cell_type": "code",
   "execution_count": 28,
   "id": "23887ed0",
   "metadata": {},
   "outputs": [
    {
     "name": "stdout",
     "output_type": "stream",
     "text": [
      "python\n"
     ]
    },
    {
     "ename": "AttributeError",
     "evalue": "'super' object has no attribute 'hi'",
     "output_type": "error",
     "traceback": [
      "\u001b[1;31m---------------------------------------------------------------------------\u001b[0m",
      "\u001b[1;31mAttributeError\u001b[0m                            Traceback (most recent call last)",
      "\u001b[1;32m~\\AppData\\Local\\Temp/ipykernel_4792/511253166.py\u001b[0m in \u001b[0;36m<module>\u001b[1;34m\u001b[0m\n\u001b[0;32m     14\u001b[0m \u001b[0mx\u001b[0m\u001b[1;33m=\u001b[0m\u001b[0mabc\u001b[0m\u001b[1;33m(\u001b[0m\u001b[1;33m)\u001b[0m\u001b[1;33m\u001b[0m\u001b[1;33m\u001b[0m\u001b[0m\n\u001b[0;32m     15\u001b[0m \u001b[1;31m#x.hi()\u001b[0m\u001b[1;33m\u001b[0m\u001b[1;33m\u001b[0m\u001b[1;33m\u001b[0m\u001b[0m\n\u001b[1;32m---> 16\u001b[1;33m \u001b[0mx\u001b[0m\u001b[1;33m.\u001b[0m\u001b[0mhi\u001b[0m\u001b[1;33m(\u001b[0m\u001b[1;36m10\u001b[0m\u001b[1;33m)\u001b[0m\u001b[1;33m\u001b[0m\u001b[1;33m\u001b[0m\u001b[0m\n\u001b[0m\u001b[0;32m     17\u001b[0m \u001b[0mx\u001b[0m\u001b[1;33m.\u001b[0m\u001b[0mhi\u001b[0m\u001b[1;33m(\u001b[0m\u001b[1;36m10\u001b[0m\u001b[1;33m,\u001b[0m\u001b[1;36m20\u001b[0m\u001b[1;33m)\u001b[0m\u001b[1;33m\u001b[0m\u001b[1;33m\u001b[0m\u001b[0m\n",
      "\u001b[1;32m~\\AppData\\Local\\Temp/ipykernel_4792/511253166.py\u001b[0m in \u001b[0;36mhi\u001b[1;34m(self, a)\u001b[0m\n\u001b[0;32m     10\u001b[0m         \u001b[0mself\u001b[0m\u001b[1;33m.\u001b[0m\u001b[0ma\u001b[0m\u001b[1;33m=\u001b[0m\u001b[0ma\u001b[0m\u001b[1;33m\u001b[0m\u001b[1;33m\u001b[0m\u001b[0m\n\u001b[0;32m     11\u001b[0m         \u001b[0mprint\u001b[0m\u001b[1;33m(\u001b[0m\u001b[1;34m\"python\"\u001b[0m\u001b[1;33m)\u001b[0m\u001b[1;33m\u001b[0m\u001b[1;33m\u001b[0m\u001b[0m\n\u001b[1;32m---> 12\u001b[1;33m         \u001b[0msuper\u001b[0m\u001b[1;33m(\u001b[0m\u001b[1;33m)\u001b[0m\u001b[1;33m.\u001b[0m\u001b[0mhi\u001b[0m\u001b[1;33m(\u001b[0m\u001b[0ma\u001b[0m\u001b[1;33m,\u001b[0m\u001b[0mb\u001b[0m\u001b[1;33m)\u001b[0m\u001b[1;33m\u001b[0m\u001b[1;33m\u001b[0m\u001b[0m\n\u001b[0m\u001b[0;32m     13\u001b[0m         \u001b[0mprint\u001b[0m\u001b[1;33m(\u001b[0m\u001b[0mself\u001b[0m\u001b[1;33m.\u001b[0m\u001b[0ma\u001b[0m\u001b[1;33m)\u001b[0m\u001b[1;33m\u001b[0m\u001b[1;33m\u001b[0m\u001b[0m\n\u001b[0;32m     14\u001b[0m \u001b[0mx\u001b[0m\u001b[1;33m=\u001b[0m\u001b[0mabc\u001b[0m\u001b[1;33m(\u001b[0m\u001b[1;33m)\u001b[0m\u001b[1;33m\u001b[0m\u001b[1;33m\u001b[0m\u001b[0m\n",
      "\u001b[1;31mAttributeError\u001b[0m: 'super' object has no attribute 'hi'"
     ]
    }
   ],
   "source": [
    "class abc():\n",
    "    def hi(self):\n",
    "        print(\"ojas\")\n",
    "\n",
    "    def hi(self,a,b):\n",
    "        print(\"django\")\n",
    "        self.a=a\n",
    "        self.b=b\n",
    "    def hi(self,a):\n",
    "        self.a=a\n",
    "        print(\"python\")\n",
    "        print(self.a)\n",
    "x=abc()\n",
    "#x.hi()\n",
    "x.hi(10)\n",
    "x.hi(10,20)"
   ]
  },
  {
   "cell_type": "code",
   "execution_count": 27,
   "id": "eaf64eb0",
   "metadata": {},
   "outputs": [
    {
     "name": "stdout",
     "output_type": "stream",
     "text": [
      "hey\n",
      "python\n",
      "django\n",
      "hello welcome ojas\n"
     ]
    }
   ],
   "source": [
    "class Hello():\n",
    "    def m(self):\n",
    "        print(\"hello welcome ojas\")\n",
    "    def m1(self):\n",
    "        \n",
    "        print(\"python\")\n",
    "class Hai(Hello):\n",
    "    def k(self):\n",
    "        print(\"hey\")\n",
    "    def m1(self):\n",
    "        super().m1()\n",
    "        print(\"django\")\n",
    "x=Hai()\n",
    "x.k()\n",
    "x.m1()\n",
    "x.m()"
   ]
  },
  {
   "cell_type": "code",
   "execution_count": 1,
   "id": "07203d78",
   "metadata": {},
   "outputs": [
    {
     "name": "stdout",
     "output_type": "stream",
     "text": [
      "[1, 3, 4, 5, 6, 7, 8]\n"
     ]
    }
   ],
   "source": [
    "l = [1,6,4,5,7,8,3]\n",
    "for i in range(1,len(l)):\n",
    "    n = i\n",
    "    while n>0:\n",
    "        if l[n]<l[n-1]:\n",
    "            l[n],l[n-1]=l[n-1],l[n]\n",
    "        else:\n",
    "            break\n",
    "        n-=1\n",
    "print(l)"
   ]
  },
  {
   "cell_type": "code",
   "execution_count": 6,
   "id": "1cbcd533",
   "metadata": {},
   "outputs": [
    {
     "name": "stdout",
     "output_type": "stream",
     "text": [
      "3\n",
      "8\n"
     ]
    }
   ],
   "source": [
    "thistuple = (1, 3, 7, 8, 7, 5, 4, 6, 8, 5)\n",
    "for i in range(len(thistuple)):\n",
    "    if thistuple[i]==8:\n",
    "        print(i)\n",
    "\n"
   ]
  },
  {
   "cell_type": "code",
   "execution_count": 16,
   "id": "16ed4281",
   "metadata": {},
   "outputs": [
    {
     "name": "stdout",
     "output_type": "stream",
     "text": [
      "(8, 6, 4, 2, 0, 1, 3, 5, 7, 9)\n"
     ]
    }
   ],
   "source": [
    "a = ()\n",
    "8,6,4,2,0,1,3,5,7,9\n",
    "for i in  range(10):\n",
    "    if i%2==0:\n",
    "        a=(i,)+a\n",
    "    else:\n",
    "        a+=(i,)\n",
    "print(a)\n",
    "\n",
    "    "
   ]
  },
  {
   "cell_type": "code",
   "execution_count": 18,
   "id": "ae161352",
   "metadata": {},
   "outputs": [],
   "source": [
    "b = tuple([i])"
   ]
  },
  {
   "cell_type": "code",
   "execution_count": 19,
   "id": "fb239a2a",
   "metadata": {},
   "outputs": [
    {
     "data": {
      "text/plain": [
       "(9,)"
      ]
     },
     "execution_count": 19,
     "metadata": {},
     "output_type": "execute_result"
    }
   ],
   "source": [
    "b"
   ]
  },
  {
   "cell_type": "code",
   "execution_count": 20,
   "id": "800c971a",
   "metadata": {},
   "outputs": [],
   "source": [
    "a={10}"
   ]
  },
  {
   "cell_type": "code",
   "execution_count": 21,
   "id": "85d90213",
   "metadata": {},
   "outputs": [
    {
     "data": {
      "text/plain": [
       "{10}"
      ]
     },
     "execution_count": 21,
     "metadata": {},
     "output_type": "execute_result"
    }
   ],
   "source": [
    "a"
   ]
  },
  {
   "cell_type": "code",
   "execution_count": 22,
   "id": "85b4bd02",
   "metadata": {},
   "outputs": [
    {
     "data": {
      "text/plain": [
       "10"
      ]
     },
     "execution_count": 22,
     "metadata": {},
     "output_type": "execute_result"
    }
   ],
   "source": [
    "a.pop()"
   ]
  },
  {
   "cell_type": "code",
   "execution_count": 23,
   "id": "2ca26c9e",
   "metadata": {},
   "outputs": [
    {
     "data": {
      "text/plain": [
       "set()"
      ]
     },
     "execution_count": 23,
     "metadata": {},
     "output_type": "execute_result"
    }
   ],
   "source": [
    "a"
   ]
  },
  {
   "cell_type": "code",
   "execution_count": 29,
   "id": "af618872",
   "metadata": {},
   "outputs": [
    {
     "name": "stdout",
     "output_type": "stream",
     "text": [
      "{}\n",
      "set()\n"
     ]
    }
   ],
   "source": [
    "s={}\n",
    "d=set()\n",
    "print(s)\n",
    "print(d)\n"
   ]
  },
  {
   "cell_type": "code",
   "execution_count": null,
   "id": "f86aed30",
   "metadata": {},
   "outputs": [],
   "source": [
    "l=[1,0,1,0,1,1,0,0,1,0]\n",
    "for i in range(len(l)):\n",
    "    if l[i]==0:\n",
    "        x=i\n",
    "        while x:\n",
    "            l[x],l[x-1]=l[x-1],l[x]\n",
    "            x-=1\n",
    "print(l)\n",
    "        "
   ]
  },
  {
   "cell_type": "code",
   "execution_count": null,
   "id": "348d0375",
   "metadata": {},
   "outputs": [],
   "source": [
    "l=[0,1,1,1,0,0]\n",
    "for i in range(len(l)):\n",
    "    if l[i]==1:\n",
    "        p=i\n",
    "        while p:\n",
    "            l[p],l[p-1]=l[p-1],l[p]\n",
    "            p-=1\n",
    "print(l)"
   ]
  },
  {
   "cell_type": "code",
   "execution_count": null,
   "id": "32c6c890",
   "metadata": {},
   "outputs": [],
   "source": [
    "x=[]\n",
    "for i in range(3):\n",
    "    a=input(\"enter the num\")\n",
    "    a.append(i)\n",
    "print(x)"
   ]
  },
  {
   "cell_type": "code",
   "execution_count": null,
   "id": "d8bc3735",
   "metadata": {},
   "outputs": [],
   "source": []
  }
 ],
 "metadata": {
  "kernelspec": {
   "display_name": "Python 3 (ipykernel)",
   "language": "python",
   "name": "python3"
  },
  "language_info": {
   "codemirror_mode": {
    "name": "ipython",
    "version": 3
   },
   "file_extension": ".py",
   "mimetype": "text/x-python",
   "name": "python",
   "nbconvert_exporter": "python",
   "pygments_lexer": "ipython3",
   "version": "3.9.6"
  }
 },
 "nbformat": 4,
 "nbformat_minor": 5
}
