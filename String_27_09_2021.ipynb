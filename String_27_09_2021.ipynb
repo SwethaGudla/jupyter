{
 "cells": [
  {
   "cell_type": "code",
   "execution_count": 6,
   "id": "9268dbf0",
   "metadata": {},
   "outputs": [
    {
     "name": "stdout",
     "output_type": "stream",
     "text": [
      "11\n",
      "6\n"
     ]
    }
   ],
   "source": [
    "#1. Write a Python program to calculate the length of a string.\n",
    "s = 'swethaGudla'\n",
    "count = 0\n",
    "for i in s:\n",
    "    count+=1\n",
    "print(count)\n",
    "# or\n",
    "s='Swetha'\n",
    "print(len(s))"
   ]
  },
  {
   "cell_type": "code",
   "execution_count": 8,
   "id": "9de90afd",
   "metadata": {},
   "outputs": [
    {
     "name": "stdout",
     "output_type": "stream",
     "text": [
      "{'M': 1, 'y': 2, ' ': 3, 'D': 1, 'o': 2, 'm': 1, 'a': 1, 'i': 2, 'n': 2, 's': 1, 'P': 1, 't': 1, 'h': 1}\n"
     ]
    }
   ],
   "source": [
    "#2.Write a Python program to count the number of characters (character frequency) in a string\n",
    "s = 'My Domain is Python'\n",
    "res={}\n",
    "for i in s:\n",
    "    if i in res:\n",
    "        res[i]+=1\n",
    "    else:\n",
    "        res[i]=1\n",
    "print(res)"
   ]
  },
  {
   "cell_type": "code",
   "execution_count": 12,
   "id": "16ed2f31",
   "metadata": {},
   "outputs": [
    {
     "name": "stdout",
     "output_type": "stream",
     "text": [
      "sw ha\n"
     ]
    }
   ],
   "source": [
    "#3.Write a Python program to get a string made of the first 2 and the last 2 chars from a given a string. If the string length is less than 2, return instead of the empty string\n",
    "\n",
    "\n",
    "s= 'swetha'\n",
    "if len(s)>2:\n",
    "    x=s[0:2]+' '+s[-2:]\n",
    "print(x)\n",
    "\n",
    "\n",
    "\n",
    "\n"
   ]
  },
  {
   "cell_type": "code",
   "execution_count": 18,
   "id": "82f77598",
   "metadata": {},
   "outputs": [
    {
     "name": "stdout",
     "output_type": "stream",
     "text": [
      "resta$t\n"
     ]
    }
   ],
   "source": [
    "#4.rite a Python program to get a string from a given string where all occurrences of its first char have been changed to '$', except the first char itself.\n",
    " \n",
    "s=\"restart\"\n",
    "res=s[0]\n",
    "for i in s[1:]:\n",
    "    if i == s[0]:\n",
    "        res += '$'\n",
    "    else:\n",
    "        res += i\n",
    "print(res)\n"
   ]
  },
  {
   "cell_type": "code",
   "execution_count": 36,
   "id": "39f7f760",
   "metadata": {},
   "outputs": [
    {
     "name": "stdout",
     "output_type": "stream",
     "text": [
      "xyc abz\n"
     ]
    }
   ],
   "source": [
    "#5. Write a Python program to get a single string from two given strings, separated by a space and swap the first two characters of each string.\n",
    "x='xyz'\n",
    "y='abc'\n",
    "x1=x[0:2]+y[2:]\n",
    "y1=y[0:2]+x[2:]\n",
    "z=x1+' '+y1\n",
    "print(z)\n"
   ]
  },
  {
   "cell_type": "code",
   "execution_count": 35,
   "id": "63f164c5",
   "metadata": {},
   "outputs": [
    {
     "name": "stdout",
     "output_type": "stream",
     "text": [
      "enter any string: string\n",
      "stringly\n"
     ]
    }
   ],
   "source": [
    "#6.Write a Python program to add 'ing' at the end of a given string (length should be at least 3). If the given string already ends with 'ing' then add 'ly' instead. If the string length of the given string is less than 3, leave it unchanged.\n",
    "x=input('enter any string: ')\n",
    "l=len(x)\n",
    "if l>2:\n",
    "    if x[-3:] == 'ing':\n",
    "        \n",
    "        x+='ly'\n",
    "    else:\n",
    "        x += 'ing'\n",
    "print(x)\n",
    "\n",
    "\n",
    "    "
   ]
  },
  {
   "cell_type": "code",
   "execution_count": 14,
   "id": "89057153",
   "metadata": {},
   "outputs": [
    {
     "name": "stdout",
     "output_type": "stream",
     "text": [
      "enter the stringthe lyrics is not that poor\n",
      "the lyrics is good\n",
      "14\n",
      "23\n"
     ]
    }
   ],
   "source": [
    "#7.Write a Python program to find the first appearance of the substring 'not' and 'poor' from a given string, if 'not' follows the 'poor', replace the whole 'not'...'poor' substring with 'good'. Return the resulting string.\n",
    "x=input(\"enter the string\")\n",
    "snot=x.find('not')\n",
    "spoor=x.find('poor')\n",
    "if spoor>snot and snot>0 and spoor>0:\n",
    "    x=x.replace(x[snot:(spoor+4)],'good')\n",
    "    print(x)\n",
    "else:\n",
    "    print(x)\n",
    "  \n",
    "print(snot)\n",
    "print(spoor)\n"
   ]
  },
  {
   "cell_type": "code",
   "execution_count": 34,
   "id": "5e2ba669",
   "metadata": {},
   "outputs": [
    {
     "name": "stdout",
     "output_type": "stream",
     "text": [
      "programming = 11\n"
     ]
    }
   ],
   "source": [
    "#8. Write a Python function that takes a list of words and return the longest word and the length of the longest one.\n",
    "def list_of_words(words):\n",
    "    length_of_words=len(words[0])\n",
    "    longest_word=words[0]\n",
    "    \n",
    "    for i in words:\n",
    "        if len(i)>length_of_words:\n",
    "            length_of_words=len(i)\n",
    "            longest_word=i\n",
    "    print(longest_word,\"=\",length_of_words)\n",
    "a=['python','programming','language']\n",
    "list_of_words(a)\n",
    "   \n",
    "    \n",
    "    \n",
    "        "
   ]
  },
  {
   "cell_type": "code",
   "execution_count": 37,
   "id": "e826637d",
   "metadata": {},
   "outputs": [
    {
     "name": "stdout",
     "output_type": "stream",
     "text": [
      "pytho\n"
     ]
    }
   ],
   "source": [
    "#9.Write a Python program to remove the nth index character from a nonempty string\n",
    "x='python'\n",
    "y=x[:-1]\n",
    "print(y)    "
   ]
  },
  {
   "cell_type": "code",
   "execution_count": 56,
   "id": "fea70061",
   "metadata": {},
   "outputs": [
    {
     "name": "stdout",
     "output_type": "stream",
     "text": [
      "enter your string: abcd\n",
      "dbca\n"
     ]
    }
   ],
   "source": [
    " #10.Write a Python program to change a given string to a new string where the first and last chars have been exchanged\n",
    "x=input('enter your string: ')\n",
    "print(x[-1:]+x[1:-1]+x[:1])\n"
   ]
  },
  {
   "cell_type": "code",
   "execution_count": 57,
   "id": "6abd6fde",
   "metadata": {},
   "outputs": [
    {
     "name": "stdout",
     "output_type": "stream",
     "text": [
      "enter a string: abcde\n",
      "ace\n"
     ]
    }
   ],
   "source": [
    " #11.Write a Python program to remove the characters which have odd index values of a given string.\n",
    "x=input('enter a string: ')\n",
    "res=''\n",
    "for i in range(len(x)):\n",
    "    if i % 2==0:\n",
    "       res+=x[i]\n",
    "print(res)"
   ]
  },
  {
   "cell_type": "code",
   "execution_count": 64,
   "id": "f46cd637",
   "metadata": {},
   "outputs": [
    {
     "name": "stdout",
     "output_type": "stream",
     "text": [
      "enter the string: swetha is a good girl and intelligent girl\n",
      "{'swetha': 1, 'is': 1, 'a': 1, 'good': 1, 'girl': 2, 'and': 1, 'intelligent': 1}\n"
     ]
    }
   ],
   "source": [
    "#12Write a Python program to count the occurrences of each word in a given sentence.\n",
    "x=input('enter the string: ').split()\n",
    "res={}\n",
    "for i in x:\n",
    "    if i in res:\n",
    "        res[i]+=1\n",
    "    else:\n",
    "        res[i]=1\n",
    "print(res)"
   ]
  },
  {
   "cell_type": "code",
   "execution_count": 66,
   "id": "63fe179d",
   "metadata": {},
   "outputs": [
    {
     "name": "stdout",
     "output_type": "stream",
     "text": [
      "PYTHON PROGRAMMING LANGUAGE\n",
      "python programming language\n"
     ]
    }
   ],
   "source": [
    " #13.Write a Python script that takes input from the user and displays that input back in upper and lower cases. \n",
    "s='Python Programming Language'\n",
    "print(s.upper())\n",
    "print(s.lower())"
   ]
  },
  {
   "cell_type": "code",
   "execution_count": 88,
   "id": "846b5577",
   "metadata": {},
   "outputs": [
    {
     "name": "stdout",
     "output_type": "stream",
     "text": [
      "enter the words: cyan,red,apple,white,zebra,white\n",
      "apple,cyan,red,white,zebra\n"
     ]
    }
   ],
   "source": [
    "#14. Write a Python program that accepts a comma separated sequence of words as input and prints the unique words in sorted form (alphanumerically).\n",
    "x=input('enter the words: ')\n",
    "y=[i for i in x.split(',')]\n",
    "\n",
    "\n",
    "print(','.join(sorted(set(y))))"
   ]
  },
  {
   "cell_type": "code",
   "execution_count": 104,
   "id": "74797fab",
   "metadata": {},
   "outputs": [
    {
     "name": "stdout",
     "output_type": "stream",
     "text": [
      "enter the word: python\n",
      "enter the tag: hr\n",
      "<hr>python</hr>\n"
     ]
    }
   ],
   "source": [
    "#15. Write a Python function to create the HTML string with tags around the word(s).\n",
    "word=input('enter the word: ')\n",
    "tag=input('enter the tag: ')\n",
    "print(\"<%s>%s</%s>\" % (tag, word,tag))"
   ]
  },
  {
   "cell_type": "code",
   "execution_count": 108,
   "id": "05a00c87",
   "metadata": {},
   "outputs": [
    {
     "name": "stdout",
     "output_type": "stream",
     "text": [
      "enter the word: python\n",
      "enter the string: {{}}\n",
      "{{python}}\n"
     ]
    }
   ],
   "source": [
    " #16.Write a Python function to insert a string in the middle of a string.\n",
    "s=input('enter the word: ')\n",
    "s1=input('enter the string: ')\n",
    "x=s1[:2]+s+s1[2:]\n",
    "print(x)"
   ]
  },
  {
   "cell_type": "code",
   "execution_count": 118,
   "id": "f0adeab9",
   "metadata": {},
   "outputs": [
    {
     "name": "stdout",
     "output_type": "stream",
     "text": [
      "enter the string: python\n",
      "onononon\n"
     ]
    }
   ],
   "source": [
    "#17. Write a Python function to get a string made of 4 copies of the last two characters of a specified string (length must be at least 2.\n",
    "s=input('enter the string: ')\n",
    "s1=s[-2:]*4\n",
    "print(s1)"
   ]
  },
  {
   "cell_type": "code",
   "execution_count": 127,
   "id": "fe9f1e90",
   "metadata": {},
   "outputs": [
    {
     "name": "stdout",
     "output_type": "stream",
     "text": [
      "enter the string: pyt\n",
      "pyt\n"
     ]
    }
   ],
   "source": [
    " #18.Write a Python function to get a string made of its first three characters of a specified string. If the length of the string is less than 3 then return the original string.\n",
    "s=input('enter the string: ')\n",
    "# x=s[:3]\n",
    "\n",
    "if len(s)>3:\n",
    "    print(x)\n",
    "else:\n",
    "    print(s)\n"
   ]
  },
  {
   "cell_type": "code",
   "execution_count": 171,
   "id": "3e0e344a",
   "metadata": {},
   "outputs": [
    {
     "name": "stdout",
     "output_type": "stream",
     "text": [
      "https://www.w3resource.com/python-exercises\n",
      "https://www.w3resource.com/python\n"
     ]
    }
   ],
   "source": [
    "#19. Write a Python program to get the last part of a string before a specified character. \n",
    "str1 = 'https://www.w3resource.com/python-exercises/string'\n",
    "print(str1.rsplit('/',1)[0])\n",
    "print(str1.rsplit('-', 1)[0])"
   ]
  },
  {
   "cell_type": "code",
   "execution_count": 219,
   "id": "5836fd3c",
   "metadata": {},
   "outputs": [
    {
     "name": "stdout",
     "output_type": "stream",
     "text": [
      "abcdefg\n",
      "not multi\n"
     ]
    }
   ],
   "source": [
    "#20. Write a Python function to reverses a string if it's length is a multiple of 4\n",
    "def string(x):\n",
    "    if len(x)%4==0:\n",
    "        print(x[::-1])\n",
    "      \n",
    "    else:\n",
    "        print('not multi')\n",
    "string(input(''))\n"
   ]
  },
  {
   "cell_type": "code",
   "execution_count": 224,
   "id": "d3a6f321",
   "metadata": {},
   "outputs": [
    {
     "name": "stdout",
     "output_type": "stream",
     "text": [
      "enter the string: SwETha\n",
      "SWETHA\n",
      "Count of UpperCase = 3\n"
     ]
    }
   ],
   "source": [
    "#21.Write a Python function to convert a given string to all uppercase if it contains at least 2 uppercase characters in the first 4 characters\n",
    "def upper_convert(x):\n",
    "    x1=0\n",
    "    for i in x[:4]:\n",
    "\n",
    "        if i.upper()==i:\n",
    "            x1+=1\n",
    "    if x1>=2:\n",
    "        print(x.upper())\n",
    "    print('Count of UpperCase =', x1)\n",
    "upper_convert(input('enter the string: '))\n",
    "\n",
    "\n",
    "\n",
    "        \n",
    "    "
   ]
  },
  {
   "cell_type": "code",
   "execution_count": 216,
   "id": "a95bee72",
   "metadata": {},
   "outputs": [
    {
     "ename": "IndentationError",
     "evalue": "unexpected indent (Temp/ipykernel_6452/2898470629.py, line 2)",
     "output_type": "error",
     "traceback": [
      "\u001b[1;36m  File \u001b[1;32m\"C:\\Users\\sg21129\\AppData\\Local\\Temp/ipykernel_6452/2898470629.py\"\u001b[1;36m, line \u001b[1;32m2\u001b[0m\n\u001b[1;33m    for letter in str1[:4]:\u001b[0m\n\u001b[1;37m    ^\u001b[0m\n\u001b[1;31mIndentationError\u001b[0m\u001b[1;31m:\u001b[0m unexpected indent\n"
     ]
    }
   ],
   "source": [
    " "
   ]
  },
  {
   "cell_type": "code",
   "execution_count": null,
   "id": "b9a35e11",
   "metadata": {},
   "outputs": [],
   "source": []
  }
 ],
 "metadata": {
  "kernelspec": {
   "display_name": "Python 3 (ipykernel)",
   "language": "python",
   "name": "python3"
  },
  "language_info": {
   "codemirror_mode": {
    "name": "ipython",
    "version": 3
   },
   "file_extension": ".py",
   "mimetype": "text/x-python",
   "name": "python",
   "nbconvert_exporter": "python",
   "pygments_lexer": "ipython3",
   "version": "3.9.6"
  }
 },
 "nbformat": 4,
 "nbformat_minor": 5
}
