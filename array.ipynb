{
 "cells": [
  {
   "cell_type": "code",
   "execution_count": 5,
   "id": "9222d054",
   "metadata": {},
   "outputs": [
    {
     "name": "stdout",
     "output_type": "stream",
     "text": [
      "1\n",
      "2\n",
      "3\n",
      "4\n",
      "1\n",
      "2\n",
      "3\n"
     ]
    }
   ],
   "source": [
    "# Write a Python program to create an array of 5 integers and display the array items. Access individual element through indexes.\n",
    "from array import *\n",
    "arr_num = array('i',[1,2,3,4])\n",
    "for i in arr_num:\n",
    "    print(i)\n",
    "    \n",
    "print(arr_num[0])\n",
    "print(arr_num[1])\n",
    "print(arr_num[2])"
   ]
  },
  {
   "cell_type": "code",
   "execution_count": 9,
   "id": "b6612010",
   "metadata": {},
   "outputs": [
    {
     "name": "stdout",
     "output_type": "stream",
     "text": [
      "array('i', [1, 3, 5, 2, 6])\n",
      "new array is array('i', [1, 3, 5, 2, 6, 8])\n"
     ]
    }
   ],
   "source": [
    "# Write a Python program to append a new item to the end of the array. \n",
    "from array import *\n",
    "arr_num = array('i',[1,3,5,2,6])\n",
    "print(arr_num)\n",
    "arr_num.append(8)\n",
    "print('new array is',arr_num)"
   ]
  },
  {
   "cell_type": "code",
   "execution_count": 14,
   "id": "5c840555",
   "metadata": {},
   "outputs": [
    {
     "name": "stdout",
     "output_type": "stream",
     "text": [
      "before array('i', [9, 8, 7, 6, 5, 4, 3, 2, 1])\n",
      "after array('i', [1, 2, 3, 4, 5, 6, 7, 8, 9])\n",
      "length of byte 4\n",
      "\n"
     ]
    }
   ],
   "source": [
    "#Write a Python program to get the length in bytes of one array item in the internal representation.\n",
    "# Write a Python program to reverse the order of the items in the array.\n",
    "from array import *\n",
    "arr_num = array('i',[9,8,7,6,5,4,3,2,1])\n",
    "print('before',arr_num)\n",
    "arr_num.reverse()\n",
    "print('after',arr_num)\n",
    "print('length of byte',arr_num.itemsize)\n",
    "\n",
    "print()"
   ]
  },
  {
   "cell_type": "code",
   "execution_count": 23,
   "id": "77e5b9f3",
   "metadata": {},
   "outputs": [
    {
     "ename": "TypeError",
     "evalue": "an integer is required (got type str)",
     "output_type": "error",
     "traceback": [
      "\u001b[1;31m---------------------------------------------------------------------------\u001b[0m",
      "\u001b[1;31mTypeError\u001b[0m                                 Traceback (most recent call last)",
      "\u001b[1;32m~\\AppData\\Local\\Temp/ipykernel_6536/3692969150.py\u001b[0m in \u001b[0;36m<module>\u001b[1;34m\u001b[0m\n\u001b[0;32m      1\u001b[0m \u001b[1;31m# Write a Python program to get the number of occurrences of a specified element in an array.\u001b[0m\u001b[1;33m\u001b[0m\u001b[1;33m\u001b[0m\u001b[1;33m\u001b[0m\u001b[0m\n\u001b[0;32m      2\u001b[0m \u001b[1;32mfrom\u001b[0m \u001b[0marray\u001b[0m \u001b[1;32mimport\u001b[0m \u001b[1;33m*\u001b[0m\u001b[1;33m\u001b[0m\u001b[1;33m\u001b[0m\u001b[0m\n\u001b[1;32m----> 3\u001b[1;33m \u001b[0marr_num\u001b[0m\u001b[1;33m=\u001b[0m\u001b[0marray\u001b[0m\u001b[1;33m(\u001b[0m\u001b[1;34m'B'\u001b[0m\u001b[1;33m,\u001b[0m\u001b[1;33m[\u001b[0m\u001b[1;34m'a'\u001b[0m\u001b[1;33m,\u001b[0m\u001b[1;34m'b'\u001b[0m\u001b[1;33m,\u001b[0m\u001b[1;34m'c'\u001b[0m\u001b[1;33m,\u001b[0m\u001b[1;34m'd'\u001b[0m\u001b[1;33m,\u001b[0m\u001b[1;34m'a'\u001b[0m\u001b[1;33m,\u001b[0m\u001b[1;34m'c'\u001b[0m\u001b[1;33m]\u001b[0m\u001b[1;33m)\u001b[0m\u001b[1;33m\u001b[0m\u001b[1;33m\u001b[0m\u001b[0m\n\u001b[0m\u001b[0;32m      4\u001b[0m \u001b[0mprint\u001b[0m\u001b[1;33m(\u001b[0m\u001b[0marr_num\u001b[0m\u001b[1;33m)\u001b[0m\u001b[1;33m\u001b[0m\u001b[1;33m\u001b[0m\u001b[0m\n\u001b[0;32m      5\u001b[0m \u001b[1;33m\u001b[0m\u001b[0m\n",
      "\u001b[1;31mTypeError\u001b[0m: an integer is required (got type str)"
     ]
    }
   ],
   "source": [
    "# Write a Python program to get the number of occurrences of a specified element in an array.\n",
    "from array import *\n",
    "arr_num=array('B',['a','b','c','d','a','c'])\n",
    "print(arr_num)\n",
    "\n"
   ]
  },
  {
   "cell_type": "code",
   "execution_count": 1,
   "id": "6352da66",
   "metadata": {},
   "outputs": [
    {
     "name": "stdout",
     "output_type": "stream",
     "text": [
      "25\n",
      "48\n"
     ]
    }
   ],
   "source": [
    "# Write a Python program to create a lambda function that adds 15 to a given number passed in as an argument, also create a lambda function that multiplies argument x with argument y and print the result.\n",
    "r = lambda a : a + 15\n",
    "print(r(10))\n",
    "r = lambda x, y : x * y\n",
    "print(r(12, 4))"
   ]
  },
  {
   "cell_type": "code",
   "execution_count": 3,
   "id": "02e91bc9",
   "metadata": {},
   "outputs": [
    {
     "name": "stdout",
     "output_type": "stream",
     "text": [
      "Double the number of 15 = 30\n",
      "Triple the number of 15 = 45\n",
      "Quadruple the number of 15 = 60\n",
      "Quintuple the number 15 = 75\n"
     ]
    }
   ],
   "source": [
    " #Write a Python program to create a function that takes one argument, and that argument will be multiplied with an unknown given number.\n",
    "def func_compute(n):\n",
    "    \n",
    "    return lambda x : x * n\n",
    "result = func_compute(2)\n",
    "print(\"Double the number of 15 =\", result(15))\n",
    "result = func_compute(3)\n",
    "print(\"Triple the number of 15 =\", result(15))\n",
    "result = func_compute(4)\n",
    "print(\"Quadruple the number of 15 =\", result(15))\n",
    "result = func_compute(5)\n",
    "print(\"Quintuple the number 15 =\", result(15))"
   ]
  },
  {
   "cell_type": "code",
   "execution_count": 4,
   "id": "ea224656",
   "metadata": {},
   "outputs": [
    {
     "ename": "AttributeError",
     "evalue": "'tuple' object has no attribute 'sort'",
     "output_type": "error",
     "traceback": [
      "\u001b[1;31m---------------------------------------------------------------------------\u001b[0m",
      "\u001b[1;31mAttributeError\u001b[0m                            Traceback (most recent call last)",
      "\u001b[1;32m~\\AppData\\Local\\Temp/ipykernel_3504/41884508.py\u001b[0m in \u001b[0;36m<module>\u001b[1;34m\u001b[0m\n\u001b[0;32m      1\u001b[0m \u001b[1;31m#Write a Python program to sort a list of tuples using Lambda.\u001b[0m\u001b[1;33m\u001b[0m\u001b[1;33m\u001b[0m\u001b[1;33m\u001b[0m\u001b[0m\n\u001b[0;32m      2\u001b[0m \u001b[0mstring\u001b[0m \u001b[1;33m=\u001b[0m \u001b[1;33m(\u001b[0m\u001b[1;34m'zebra'\u001b[0m\u001b[1;33m,\u001b[0m\u001b[1;34m'apple'\u001b[0m\u001b[1;33m,\u001b[0m\u001b[1;34m'pink'\u001b[0m\u001b[1;33m,\u001b[0m\u001b[1;34m'warm'\u001b[0m\u001b[1;33m)\u001b[0m\u001b[1;33m\u001b[0m\u001b[1;33m\u001b[0m\u001b[0m\n\u001b[1;32m----> 3\u001b[1;33m \u001b[0mstring\u001b[0m\u001b[1;33m.\u001b[0m\u001b[0msort\u001b[0m\u001b[1;33m(\u001b[0m\u001b[1;33m)\u001b[0m\u001b[1;33m\u001b[0m\u001b[1;33m\u001b[0m\u001b[0m\n\u001b[0m\u001b[0;32m      4\u001b[0m \u001b[0mprint\u001b[0m\u001b[1;33m(\u001b[0m\u001b[0mstring\u001b[0m\u001b[1;33m)\u001b[0m\u001b[1;33m\u001b[0m\u001b[1;33m\u001b[0m\u001b[0m\n",
      "\u001b[1;31mAttributeError\u001b[0m: 'tuple' object has no attribute 'sort'"
     ]
    }
   ],
   "source": []
  },
  {
   "cell_type": "code",
   "execution_count": null,
   "id": "43183160",
   "metadata": {},
   "outputs": [],
   "source": []
  }
 ],
 "metadata": {
  "kernelspec": {
   "display_name": "Python 3 (ipykernel)",
   "language": "python",
   "name": "python3"
  },
  "language_info": {
   "codemirror_mode": {
    "name": "ipython",
    "version": 3
   },
   "file_extension": ".py",
   "mimetype": "text/x-python",
   "name": "python",
   "nbconvert_exporter": "python",
   "pygments_lexer": "ipython3",
   "version": "3.9.6"
  }
 },
 "nbformat": 4,
 "nbformat_minor": 5
}
