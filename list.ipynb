{
 "cells": [
  {
   "cell_type": "code",
   "execution_count": 1,
   "id": "c8ec050a",
   "metadata": {},
   "outputs": [
    {
     "name": "stdout",
     "output_type": "stream",
     "text": [
      "sum of all items = 60\n"
     ]
    }
   ],
   "source": [
    "#1. Write a Python program to sum all the items in a list.\n",
    "l=[10,20,30]\n",
    "items=0\n",
    "for i in l:\n",
    "    items+=i\n",
    "print('sum of all items =', items)"
   ]
  },
  {
   "cell_type": "code",
   "execution_count": 2,
   "id": "960ee6e4",
   "metadata": {},
   "outputs": [
    {
     "name": "stdout",
     "output_type": "stream",
     "text": [
      "24\n"
     ]
    }
   ],
   "source": [
    "#2. Write a Python program to multiply all the items in a list.\n",
    "l=[2,3,4]\n",
    "items=1\n",
    "for i in l:\n",
    "    items*=i\n",
    "print(items)"
   ]
  },
  {
   "cell_type": "code",
   "execution_count": 3,
   "id": "8a295a99",
   "metadata": {},
   "outputs": [
    {
     "name": "stdout",
     "output_type": "stream",
     "text": [
      "largest number is 90\n"
     ]
    }
   ],
   "source": [
    "#3. Write a Python program to get the largest number from a list.\n",
    "list1=[10,30,50,90]\n",
    "list1.sort()\n",
    "print('largest number is' ,list1[-1])"
   ]
  },
  {
   "cell_type": "code",
   "execution_count": 4,
   "id": "6520843c",
   "metadata": {},
   "outputs": [
    {
     "name": "stdout",
     "output_type": "stream",
     "text": [
      "smallest number is 10\n"
     ]
    }
   ],
   "source": [
    "#4.Write a Python program to get the smallest number from a list.\n",
    "l1=[90,70,40,10]\n",
    "mini=min(l1)\n",
    "print('smallest number is', mini)"
   ]
  },
  {
   "cell_type": "code",
   "execution_count": 5,
   "id": "1d9a5909",
   "metadata": {},
   "outputs": [
    {
     "name": "stdout",
     "output_type": "stream",
     "text": [
      "2\n"
     ]
    }
   ],
   "source": [
    "#5. Write a Python program to count the number of strings where the string length is 2 or more and the first and last character are same from a given list of strings.\n",
    "x=['abca','xyz','efge']\n",
    "c = 0\n",
    "for i in x:\n",
    "    if len(i)>1 and i[0] == i[-1]:\n",
    "        c=c+1\n",
    "print(c)\n",
    "       \n"
   ]
  },
  {
   "cell_type": "code",
   "execution_count": 6,
   "id": "224d6486",
   "metadata": {},
   "outputs": [
    {
     "name": "stdout",
     "output_type": "stream",
     "text": [
      "[(2, 1), (1, 2), (2, 3), (4, 4), (2, 5)]\n"
     ]
    }
   ],
   "source": [
    " #Write a Python program to get a list, sorted in increasing order by the last element in each tuple from a given list of non-empty tuples.\n",
    "x=[(2, 5), (1, 2), (4, 4), (2, 3), (2, 1)]\n",
    "def sor(x,y):\n",
    "    for i in x:\n",
    "        y.append((i[1],i[0]))\n",
    "    return y\n",
    "z=sor(x,[])\n",
    "z.sort()\n",
    "print(sor(z,[]))"
   ]
  },
  {
   "cell_type": "code",
   "execution_count": 7,
   "id": "b3e81140",
   "metadata": {},
   "outputs": [
    {
     "name": "stdout",
     "output_type": "stream",
     "text": [
      "{1, 2, 3, 4, 6}\n",
      "[1, 2, 3, 4, 6]\n"
     ]
    }
   ],
   "source": [
    "#.Write a Python program to remove duplicates from a list.\n",
    "l1=[1,2,3,4,3,2,6,1]\n",
    "x=set(l1)\n",
    "print(x)\n",
    "print(list(x))\n"
   ]
  },
  {
   "cell_type": "code",
   "execution_count": 8,
   "id": "34026ecc",
   "metadata": {},
   "outputs": [
    {
     "name": "stdout",
     "output_type": "stream",
     "text": [
      "list is empty\n"
     ]
    }
   ],
   "source": [
    "#Write a Python program to check a list is empty or not. \n",
    "l=[]\n",
    "if not l:\n",
    "    print('list is empty')"
   ]
  },
  {
   "cell_type": "code",
   "execution_count": 9,
   "id": "544c675d",
   "metadata": {},
   "outputs": [
    {
     "name": "stdout",
     "output_type": "stream",
     "text": [
      "['a', 'b', 'c', 'd']\n"
     ]
    }
   ],
   "source": [
    " #Write a Python program to clone or copy a list.\n",
    "l=['a','b','c','d']\n",
    "l1=list(l)\n",
    "print(l1)"
   ]
  },
  {
   "cell_type": "code",
   "execution_count": 11,
   "id": "b5544064",
   "metadata": {},
   "outputs": [
    {
     "name": "stdout",
     "output_type": "stream",
     "text": [
      "True\n"
     ]
    }
   ],
   "source": [
    " #Write a Python program to find the list of words that are longer than n from a given list of words.\n",
    "#Write a Python function that takes two lists and returns True if they have at least one common member.\n",
    "x=[1,2,3,4,5]\n",
    "y=[7,6,5,8]\n",
    "result=False\n",
    "for i in x:\n",
    "    for j in y:\n",
    "        if i == j:\n",
    "            result = True\n",
    "print(result)\n",
    "          \n",
    "       \n",
    "\n"
   ]
  },
  {
   "cell_type": "code",
   "execution_count": 13,
   "id": "572e87f3",
   "metadata": {},
   "outputs": [
    {
     "name": "stdout",
     "output_type": "stream",
     "text": [
      "['Green', 'White', 'Black']\n"
     ]
    }
   ],
   "source": [
    " #Write a Python program to print a specified list after removing the 0th, 4th and 5th elements.\n",
    "x=['Red', 'Green', 'White', 'Black', 'Pink', 'Yellow']\n",
    "y=x[1:4]\n",
    "print(y)"
   ]
  },
  {
   "cell_type": "code",
   "execution_count": null,
   "id": "07dc5d2b",
   "metadata": {},
   "outputs": [],
   "source": [
    " #Write a Python program to generate a 3*4*6 3D array whose each element is *.\n"
   ]
  },
  {
   "cell_type": "code",
   "execution_count": 21,
   "id": "6c2082ee",
   "metadata": {},
   "outputs": [
    {
     "name": "stdout",
     "output_type": "stream",
     "text": [
      "[1, 3, 5, 7, 9]\n"
     ]
    }
   ],
   "source": [
    "#Write a Python program to print the numbers of a specified list after removing even numbers from it. \n",
    "a=[1,2,3,4,5,6,7,8,9]\n",
    "b=[]\n",
    "for i in a:\n",
    "    if i%2!=0:\n",
    "        b.append(i)\n",
    "print(b)"
   ]
  },
  {
   "cell_type": "code",
   "execution_count": 1,
   "id": "3f0a5a95",
   "metadata": {},
   "outputs": [],
   "source": [
    "# Write a Python program to shuffle and print a specified list. \n"
   ]
  },
  {
   "cell_type": "code",
   "execution_count": 2,
   "id": "81f781dd",
   "metadata": {},
   "outputs": [
    {
     "name": "stdout",
     "output_type": "stream",
     "text": [
      "[1, 2, 3]\n"
     ]
    }
   ],
   "source": [
    "import copy\n",
    "l=[1,2,3]\n",
    "l.copy()\n",
    "print(l)"
   ]
  },
  {
   "cell_type": "code",
   "execution_count": 3,
   "id": "f09dcbab",
   "metadata": {},
   "outputs": [
    {
     "data": {
      "text/plain": [
       "[1, 2, 3]"
      ]
     },
     "execution_count": 3,
     "metadata": {},
     "output_type": "execute_result"
    }
   ],
   "source": [
    "copy.copy(l)"
   ]
  },
  {
   "cell_type": "code",
   "execution_count": 24,
   "id": "f857c4fb",
   "metadata": {},
   "outputs": [
    {
     "name": "stdout",
     "output_type": "stream",
     "text": [
      "[1]\n",
      "[1, 2]\n",
      "[1, 2, 3]\n",
      "[1, 2, 3, 4]\n",
      "[1, 2, 3, 4, 5]\n",
      "4\n"
     ]
    }
   ],
   "source": [
    "l=[1,2,3,4,2,5,5]\n",
    "b=[]\n",
    "for i in l:\n",
    "    if i not in b:\n",
    "        b.append(i)\n",
    "        print(b)\n",
    "print(b[-2])"
   ]
  },
  {
   "cell_type": "code",
   "execution_count": 22,
   "id": "72a65e2c",
   "metadata": {},
   "outputs": [
    {
     "name": "stdout",
     "output_type": "stream",
     "text": [
      "[1, 2, 3, 4, 5]\n",
      "4\n"
     ]
    }
   ],
   "source": [
    "l=[1,2,3,4,2,5,5]\n",
    "l1=sorted(set(l))\n",
    "print(list(l1))\n",
    "print(l1[-2])\n"
   ]
  },
  {
   "cell_type": "code",
   "execution_count": null,
   "id": "60d051be",
   "metadata": {},
   "outputs": [],
   "source": [
    "l=[1,2,3,4,5,5]\n",
    "l.append(5)\n",
    "l"
   ]
  }
 ],
 "metadata": {
  "kernelspec": {
   "display_name": "Python 3 (ipykernel)",
   "language": "python",
   "name": "python3"
  },
  "language_info": {
   "codemirror_mode": {
    "name": "ipython",
    "version": 3
   },
   "file_extension": ".py",
   "mimetype": "text/x-python",
   "name": "python",
   "nbconvert_exporter": "python",
   "pygments_lexer": "ipython3",
   "version": "3.9.6"
  }
 },
 "nbformat": 4,
 "nbformat_minor": 5
}
