{
 "cells": [
  {
   "cell_type": "code",
   "execution_count": 4,
   "id": "ce264703",
   "metadata": {},
   "outputs": [
    {
     "name": "stdout",
     "output_type": "stream",
     "text": [
      "(1, 2, 3)\n",
      "()\n"
     ]
    }
   ],
   "source": [
    "#Write a Python program to create a tuple.\n",
    "x=(1,2,3)\n",
    "print(tuple(x))\n",
    "#empty tuple\n",
    "y=()\n",
    "y=tuple()\n",
    "print(y)"
   ]
  },
  {
   "cell_type": "code",
   "execution_count": 5,
   "id": "b906f775",
   "metadata": {},
   "outputs": [
    {
     "name": "stdout",
     "output_type": "stream",
     "text": [
      "('True', 'abc', 100, 0.2)\n"
     ]
    }
   ],
   "source": [
    " #Write a Python program to create a tuple with different data types.\n",
    "a=('True','abc',100,0.2)\n",
    "b=tuple(a)\n",
    "print(b)"
   ]
  },
  {
   "cell_type": "code",
   "execution_count": 13,
   "id": "156486df",
   "metadata": {},
   "outputs": [
    {
     "name": "stdout",
     "output_type": "stream",
     "text": [
      "(1, 2, 3, 4, 5, 6)\n",
      "1\n",
      "(3,)\n"
     ]
    }
   ],
   "source": [
    "#Write a Python program to create a tuple with numbers and print one item.\n",
    "x=(1,2,3,4,5,6)\n",
    "print(tuple(x))\n",
    "y=x[0]\n",
    "print(y)\n",
    "x=3,\n",
    "print(x)\n"
   ]
  },
  {
   "cell_type": "code",
   "execution_count": 19,
   "id": "28d218a9",
   "metadata": {},
   "outputs": [
    {
     "name": "stdout",
     "output_type": "stream",
     "text": [
      "10\n",
      "swetha\n",
      "python\n",
      "100\n",
      "10\n",
      "swetha\n",
      "python\n",
      "100\n"
     ]
    }
   ],
   "source": [
    " #Write a Python program to unpack a tuple in several variables.\n",
    "x=(10,'swetha','python',100)\n",
    "a,b,c,d=x\n",
    "print(a)\n",
    "print(b)\n",
    "print(c)\n",
    "print(d)\n",
    "#or\n",
    "for i in x:\n",
    "    print(i)\n"
   ]
  },
  {
   "cell_type": "code",
   "execution_count": 29,
   "id": "8d91da27",
   "metadata": {},
   "outputs": [
    {
     "name": "stdout",
     "output_type": "stream",
     "text": [
      "(1, 2, 3, 4, 5, 6, 7, 8)\n"
     ]
    }
   ],
   "source": [
    "# Write a Python program to add an item in a tuple.\n",
    "x=(1,2,3,4,5)\n",
    "l=list(x)\n",
    "\n",
    "l.append(6)\n",
    "l=l[:5]+[6,7,8]\n",
    "\n",
    "x=tuple(l)\n",
    "print(x)"
   ]
  },
  {
   "cell_type": "code",
   "execution_count": 40,
   "id": "0f014843",
   "metadata": {},
   "outputs": [
    {
     "name": "stdout",
     "output_type": "stream",
     "text": [
      "swetha\n",
      "swetha"
     ]
    }
   ],
   "source": [
    " #Write a Python program to convert a tuple to a string.\n",
    "x=('s','w','e','t','h','a')\n",
    "y=''.join(x)\n",
    "print(y)\n",
    "#or\n",
    "for i in x:\n",
    "    print(i,end='')\n",
    "    "
   ]
  },
  {
   "cell_type": "code",
   "execution_count": 43,
   "id": "f100750d",
   "metadata": {},
   "outputs": [
    {
     "name": "stdout",
     "output_type": "stream",
     "text": [
      "(4, 7)\n"
     ]
    }
   ],
   "source": [
    "#Write a Python program to get the 4th element and 4th element from last of a tuple. \n",
    "x=(1,2,3,4,5,6,7,8,9,0)\n",
    "y=x[3],x[-4]\n",
    "print(y)"
   ]
  },
  {
   "cell_type": "code",
   "execution_count": 91,
   "id": "fd878899",
   "metadata": {},
   "outputs": [
    {
     "name": "stdout",
     "output_type": "stream",
     "text": [
      "(1, 2, 3, 4)\n",
      "('good', 10, [50])\n"
     ]
    }
   ],
   "source": [
    "#ite a Python program to create the colon of a tuple\n",
    "import copy\n",
    "a=(1,2,3,4)\n",
    "b=(4,5,6)\n",
    "b=copy.copy(a)\n",
    "print(b)\n",
    "\n",
    "#or\n",
    "\n",
    "a=('good',10,[])\n",
    "a[2].append(50)\n",
    "print(a)\n"
   ]
  },
  {
   "cell_type": "code",
   "execution_count": 83,
   "id": "b0774db7",
   "metadata": {},
   "outputs": [
    {
     "name": "stdout",
     "output_type": "stream",
     "text": [
      "length :  9\n",
      "2\n",
      "{1: 1, 2: 1, 3: 2, 4: 2, 5: 2, 12: 1}\n"
     ]
    }
   ],
   "source": [
    "# Write a Python program to find the repeated items of a tuple.\n",
    "x=(1,2,3,4,5,12,3,4,5)\n",
    "count={}\n",
    "a=tuple(count)\n",
    "print('length : ',len(x))\n",
    "print(x.count(3))\n",
    "for i in x:\n",
    "    if i in count:\n",
    "        count[i]+=1\n",
    "    else:\n",
    "        count[i]=1\n",
    "print(count)\n",
    "\n",
    "\n",
    "    "
   ]
  },
  {
   "cell_type": "code",
   "execution_count": 92,
   "id": "3b3c5b99",
   "metadata": {},
   "outputs": [
    {
     "name": "stdout",
     "output_type": "stream",
     "text": [
      "enter an element : j\n",
      "element exists\n"
     ]
    }
   ],
   "source": [
    "#Write a Python program to check whether an element exists within a tuple.\n",
    "a=('s','r','u','j','a','n')\n",
    "i=input(\"enter an element : \")\n",
    "if i in a:\n",
    "    print('element exists')\n",
    "else:\n",
    "    print('element does not exits')"
   ]
  },
  {
   "cell_type": "code",
   "execution_count": 93,
   "id": "7a78003e",
   "metadata": {},
   "outputs": [
    {
     "name": "stdout",
     "output_type": "stream",
     "text": [
      "('swetha', 100, 10.1, True)\n"
     ]
    }
   ],
   "source": [
    "#Write a Python program to convert a list to a tuple. \n",
    "l=['swetha',100,10.1,True]\n",
    "x=tuple(l)\n",
    "print(x)"
   ]
  },
  {
   "cell_type": "code",
   "execution_count": 105,
   "id": "2fa175c6",
   "metadata": {},
   "outputs": [
    {
     "name": "stdout",
     "output_type": "stream",
     "text": [
      "('s', 'w', 'e', 't', 'h', 'h', 'a')\n",
      "('s', 'w', 'e', 't', 'h', 'a')\n"
     ]
    }
   ],
   "source": [
    "#Write a Python program to remove an item from a tuple.\n",
    "t=('s','s','w','e','t','h','h','a')\n",
    "t=t[1:]\n",
    "print(t)\n",
    "#or\n",
    "l=list(t)\n",
    "l.remove('h')\n",
    "l=tuple(l)\n",
    "print(l)\n"
   ]
  },
  {
   "cell_type": "code",
   "execution_count": 124,
   "id": "8334a8e0",
   "metadata": {},
   "outputs": [
    {
     "name": "stdout",
     "output_type": "stream",
     "text": [
      "('H', 'e', 'l', 'l', 'o', ' ', 'w', 'o', 'r', 'l', 'd')\n",
      "('e', 'l', 'l', 'o', ' ', 'w', 'o', 'r')\n",
      "('e', 'l', ' ', 'o')\n"
     ]
    }
   ],
   "source": [
    "#write a Python program to slice a tuple.\n",
    "t=('Hello world')\n",
    "print(tuple(t))\n",
    "t=t[1:9]\n",
    "print(tuple(t))\n",
    "t=t[0:11:2]\n",
    "print(tuple(t))\n"
   ]
  },
  {
   "cell_type": "code",
   "execution_count": 131,
   "id": "f835148a",
   "metadata": {},
   "outputs": [
    {
     "name": "stdout",
     "output_type": "stream",
     "text": [
      "4\n",
      "2\n"
     ]
    }
   ],
   "source": [
    "#rite a Python program to find the index of an item of a tuple.\n",
    "x=(1,2,3,4,5,6,7)\n",
    "y=('a','b','c','d','e')\n",
    "x=x.index(5)\n",
    "y=y.index('c',1)\n",
    "print(x)\n",
    "print(y)"
   ]
  },
  {
   "cell_type": "code",
   "execution_count": 135,
   "id": "b3195473",
   "metadata": {},
   "outputs": [
    {
     "name": "stdout",
     "output_type": "stream",
     "text": [
      "6\n"
     ]
    }
   ],
   "source": [
    "#Write a Python program to find the length of a tuple\n",
    "a=(9,8,7,6,5,4)\n",
    "print(len(a))"
   ]
  },
  {
   "cell_type": "code",
   "execution_count": 189,
   "id": "b2e7acd6",
   "metadata": {},
   "outputs": [
    {
     "name": "stdout",
     "output_type": "stream",
     "text": [
      "{'d': 1, 'o': 2, 'l': 3, 'y': 4}\n"
     ]
    }
   ],
   "source": [
    "#Write a Python program to convert a tuple to a dictionary.\n",
    "tup =((1,'d'),(2,'o'),(3,'l'),(4,'y'))\n",
    "res={}\n",
    "for i in tup:\n",
    "    res[i[1]] = i[0]\n",
    "        \n",
    "    \n",
    "print(res)"
   ]
  },
  {
   "cell_type": "code",
   "execution_count": 159,
   "id": "8cdadfc0",
   "metadata": {},
   "outputs": [
    {
     "name": "stdout",
     "output_type": "stream",
     "text": [
      "[(1, 2, 3), (2, 3, 4)]\n"
     ]
    }
   ],
   "source": [
    "#Write a Python program to unzip a list of tuples into individual lists.\n",
    "l=[(1,2),(2,3),(3,4)]\n",
    "print(list(zip(*l)))"
   ]
  },
  {
   "cell_type": "code",
   "execution_count": 164,
   "id": "5c007d96",
   "metadata": {},
   "outputs": [
    {
     "name": "stdout",
     "output_type": "stream",
     "text": [
      "<reversed object at 0x000001C01D661C40>\n",
      "('n', 'o', 'h', 't', 'y', 'p')\n"
     ]
    }
   ],
   "source": [
    "#Write a Python program to reverse a tuple.\n",
    "x=('python')\n",
    "y=reversed(x)\n",
    "print(tuple(y))"
   ]
  },
  {
   "cell_type": "code",
   "execution_count": 171,
   "id": "ecc8df87",
   "metadata": {},
   "outputs": [
    {
     "name": "stdout",
     "output_type": "stream",
     "text": [
      "{'r': [1, 2], 'g': [2, 3], 't': [3, 4]}\n"
     ]
    }
   ],
   "source": [
    "#Write a Python program to convert a list of tuples into a dictionary.\n",
    "x=[('r',1),('g',2),('t',3),('r',2),('g',3),('t',4)]\n",
    "d={}\n",
    "for i,j in x:\n",
    "    d.setdefault(i, []).append(j)\n",
    "print(d)"
   ]
  },
  {
   "cell_type": "code",
   "execution_count": 179,
   "id": "6ad32c37",
   "metadata": {},
   "outputs": [
    {
     "name": "stdout",
     "output_type": "stream",
     "text": [
      "its is a tuple (1, 2, 3, 4, 5)\n"
     ]
    }
   ],
   "source": [
    "# Write a Python program to print a tuple with string formatting\n",
    "x=(1,2,3,4,5)\n",
    "print(\"its is a tuple {0}\".format(x))\n"
   ]
  },
  {
   "cell_type": "code",
   "execution_count": null,
   "id": "5dd4ae2f",
   "metadata": {},
   "outputs": [],
   "source": []
  }
 ],
 "metadata": {
  "kernelspec": {
   "display_name": "Python 3 (ipykernel)",
   "language": "python",
   "name": "python3"
  },
  "language_info": {
   "codemirror_mode": {
    "name": "ipython",
    "version": 3
   },
   "file_extension": ".py",
   "mimetype": "text/x-python",
   "name": "python",
   "nbconvert_exporter": "python",
   "pygments_lexer": "ipython3",
   "version": "3.9.6"
  }
 },
 "nbformat": 4,
 "nbformat_minor": 5
}
